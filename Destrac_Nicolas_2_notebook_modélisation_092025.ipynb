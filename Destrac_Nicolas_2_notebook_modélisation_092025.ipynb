{
 "cells": [
  {
   "cell_type": "code",
   "execution_count": 25,
   "id": "d520c44d",
   "metadata": {},
   "outputs": [
    {
     "name": "stdout",
     "output_type": "stream",
     "text": [
      "OK dossiers: /home/nicolasd/code/nicolasdestrac/OpenClassrooms/Projet_7/data/raw /home/nicolasd/code/nicolasdestrac/OpenClassrooms/Projet_7/data/processed /home/nicolasd/code/nicolasdestrac/OpenClassrooms/Projet_7/models\n"
     ]
    }
   ],
   "source": [
    "from pathlib import Path\n",
    "import pandas as pd\n",
    "import numpy as np\n",
    "\n",
    "# Dossiers\n",
    "DATA_RAW = Path(\"data/raw\")\n",
    "DATA_PROC = Path(\"data/processed\")\n",
    "MODELS_DIR = Path(\"models\")\n",
    "ARTIF_DIR = Path(\"artifacts/reports\")\n",
    "for p in [DATA_RAW, DATA_PROC, MODELS_DIR, ARTIF_DIR]:\n",
    "    p.mkdir(parents=True, exist_ok=True)\n",
    "\n",
    "print(\"OK dossiers:\", DATA_RAW.resolve(), DATA_PROC.resolve(), MODELS_DIR.resolve())"
   ]
  },
  {
   "cell_type": "code",
   "execution_count": null,
   "id": "b7411cd3",
   "metadata": {},
   "outputs": [],
   "source": [
    "# Visu\n",
    "import matplotlib.pyplot as plt\n",
    "import seaborn as sns\n",
    "import missingno as msno\n",
    "\n",
    "# ML\n",
    "from sklearn.model_selection import train_test_split, StratifiedKFold, GridSearchCV, RandomizedSearchCV, cross_val_predict\n",
    "from sklearn.preprocessing import OneHotEncoder, StandardScaler\n",
    "from sklearn.compose import ColumnTransformer\n",
    "from sklearn.pipeline import Pipeline\n",
    "from sklearn.impute import SimpleImputer\n",
    "from sklearn.metrics import roc_auc_score, roc_curve, confusion_matrix, classification_report\n",
    "from src.metrics import make_business_scorer\n",
    "\n",
    "from sklearn.linear_model import LogisticRegression\n",
    "from sklearn.ensemble import RandomForestClassifier\n",
    "import lightgbm as lgb\n",
    "\n",
    "# Explicabilité\n",
    "import shap\n",
    "\n",
    "# MLOps\n",
    "import mlflow\n",
    "import os\n",
    "import mlflow.sklearn\n",
    "from mlflow.tracking import MlflowClient\n",
    "from mlflow.models import infer_signature\n",
    "import joblib\n",
    "import json\n",
    "from dotenv import load_dotenv\n",
    "load_dotenv()\n",
    "\n",
    "# Réglages d’affichage\n",
    "%matplotlib inline"
   ]
  },
  {
   "cell_type": "code",
   "execution_count": 27,
   "id": "083c0648",
   "metadata": {},
   "outputs": [
    {
     "name": "stdout",
     "output_type": "stream",
     "text": [
      "Tracking URI -> databricks\n",
      "Experiment    -> /Users/nicolas.destrac@gmail.com/projet7\n",
      "Artifact Loc  -> dbfs:/databricks/mlflow-tracking/3880182794298532\n"
     ]
    }
   ],
   "source": [
    "mlflow.set_tracking_uri(os.getenv(\"MLFLOW_TRACKING_URI\", \"databricks\"))\n",
    "mlflow.set_registry_uri(os.getenv(\"MLFLOW_TRACKING_URI\", \"databricks\"))\n",
    "exp_path = os.getenv(\"MLFLOW_EXPERIMENT\", \"/Users/nicolas.destrac@gmail.com/projet7_scoring\")\n",
    "mlflow.set_experiment(exp_path)\n",
    "\n",
    "# contrôle\n",
    "client = MlflowClient()\n",
    "exp = client.get_experiment_by_name(exp_path)\n",
    "print(\"Tracking URI ->\", mlflow.get_tracking_uri())\n",
    "print(\"Experiment    ->\", exp.name)\n",
    "print(\"Artifact Loc  ->\", exp.artifact_location)"
   ]
  },
  {
   "cell_type": "code",
   "execution_count": 4,
   "id": "f496aafa",
   "metadata": {},
   "outputs": [
    {
     "data": {
      "text/plain": [
       "((307511, 122), (48744, 121))"
      ]
     },
     "execution_count": 4,
     "metadata": {},
     "output_type": "execute_result"
    }
   ],
   "source": [
    "train_path = DATA_RAW / \"application_train.csv\"\n",
    "test_path  = DATA_RAW / \"application_test.csv\"\n",
    "\n",
    "assert train_path.exists(), f\"Manque {train_path} (place dans data/raw)\"\n",
    "assert test_path.exists(),  f\"Manque {test_path} (place dans data/raw)\"\n",
    "\n",
    "train = pd.read_csv(train_path)\n",
    "test  = pd.read_csv(test_path)\n",
    "\n",
    "train.shape, test.shape"
   ]
  },
  {
   "cell_type": "code",
   "execution_count": 5,
   "id": "2eaaaa6d",
   "metadata": {},
   "outputs": [
    {
     "data": {
      "text/plain": [
       "['TARGET']"
      ]
     },
     "execution_count": 5,
     "metadata": {},
     "output_type": "execute_result"
    }
   ],
   "source": [
    "# Verification que la cible ne soit que dans le train\n",
    "col_list = [col for col in list(train.columns) if col not in list(test.columns)]\n",
    "col_list"
   ]
  },
  {
   "cell_type": "code",
   "execution_count": 6,
   "id": "0830108e",
   "metadata": {},
   "outputs": [
    {
     "data": {
      "text/html": [
       "<div>\n",
       "<style scoped>\n",
       "    .dataframe tbody tr th:only-of-type {\n",
       "        vertical-align: middle;\n",
       "    }\n",
       "\n",
       "    .dataframe tbody tr th {\n",
       "        vertical-align: top;\n",
       "    }\n",
       "\n",
       "    .dataframe thead th {\n",
       "        text-align: right;\n",
       "    }\n",
       "</style>\n",
       "<table border=\"1\" class=\"dataframe\">\n",
       "  <thead>\n",
       "    <tr style=\"text-align: right;\">\n",
       "      <th></th>\n",
       "      <th>SK_ID_CURR</th>\n",
       "      <th>TARGET</th>\n",
       "      <th>NAME_CONTRACT_TYPE</th>\n",
       "      <th>CODE_GENDER</th>\n",
       "      <th>FLAG_OWN_CAR</th>\n",
       "      <th>FLAG_OWN_REALTY</th>\n",
       "      <th>CNT_CHILDREN</th>\n",
       "      <th>AMT_INCOME_TOTAL</th>\n",
       "      <th>AMT_CREDIT</th>\n",
       "      <th>AMT_ANNUITY</th>\n",
       "      <th>...</th>\n",
       "      <th>FLAG_DOCUMENT_18</th>\n",
       "      <th>FLAG_DOCUMENT_19</th>\n",
       "      <th>FLAG_DOCUMENT_20</th>\n",
       "      <th>FLAG_DOCUMENT_21</th>\n",
       "      <th>AMT_REQ_CREDIT_BUREAU_HOUR</th>\n",
       "      <th>AMT_REQ_CREDIT_BUREAU_DAY</th>\n",
       "      <th>AMT_REQ_CREDIT_BUREAU_WEEK</th>\n",
       "      <th>AMT_REQ_CREDIT_BUREAU_MON</th>\n",
       "      <th>AMT_REQ_CREDIT_BUREAU_QRT</th>\n",
       "      <th>AMT_REQ_CREDIT_BUREAU_YEAR</th>\n",
       "    </tr>\n",
       "  </thead>\n",
       "  <tbody>\n",
       "    <tr>\n",
       "      <th>0</th>\n",
       "      <td>100002</td>\n",
       "      <td>1</td>\n",
       "      <td>Cash loans</td>\n",
       "      <td>M</td>\n",
       "      <td>N</td>\n",
       "      <td>Y</td>\n",
       "      <td>0</td>\n",
       "      <td>202500.0</td>\n",
       "      <td>406597.5</td>\n",
       "      <td>24700.5</td>\n",
       "      <td>...</td>\n",
       "      <td>0</td>\n",
       "      <td>0</td>\n",
       "      <td>0</td>\n",
       "      <td>0</td>\n",
       "      <td>0.0</td>\n",
       "      <td>0.0</td>\n",
       "      <td>0.0</td>\n",
       "      <td>0.0</td>\n",
       "      <td>0.0</td>\n",
       "      <td>1.0</td>\n",
       "    </tr>\n",
       "    <tr>\n",
       "      <th>1</th>\n",
       "      <td>100003</td>\n",
       "      <td>0</td>\n",
       "      <td>Cash loans</td>\n",
       "      <td>F</td>\n",
       "      <td>N</td>\n",
       "      <td>N</td>\n",
       "      <td>0</td>\n",
       "      <td>270000.0</td>\n",
       "      <td>1293502.5</td>\n",
       "      <td>35698.5</td>\n",
       "      <td>...</td>\n",
       "      <td>0</td>\n",
       "      <td>0</td>\n",
       "      <td>0</td>\n",
       "      <td>0</td>\n",
       "      <td>0.0</td>\n",
       "      <td>0.0</td>\n",
       "      <td>0.0</td>\n",
       "      <td>0.0</td>\n",
       "      <td>0.0</td>\n",
       "      <td>0.0</td>\n",
       "    </tr>\n",
       "    <tr>\n",
       "      <th>2</th>\n",
       "      <td>100004</td>\n",
       "      <td>0</td>\n",
       "      <td>Revolving loans</td>\n",
       "      <td>M</td>\n",
       "      <td>Y</td>\n",
       "      <td>Y</td>\n",
       "      <td>0</td>\n",
       "      <td>67500.0</td>\n",
       "      <td>135000.0</td>\n",
       "      <td>6750.0</td>\n",
       "      <td>...</td>\n",
       "      <td>0</td>\n",
       "      <td>0</td>\n",
       "      <td>0</td>\n",
       "      <td>0</td>\n",
       "      <td>0.0</td>\n",
       "      <td>0.0</td>\n",
       "      <td>0.0</td>\n",
       "      <td>0.0</td>\n",
       "      <td>0.0</td>\n",
       "      <td>0.0</td>\n",
       "    </tr>\n",
       "  </tbody>\n",
       "</table>\n",
       "<p>3 rows × 122 columns</p>\n",
       "</div>"
      ],
      "text/plain": [
       "   SK_ID_CURR  TARGET NAME_CONTRACT_TYPE CODE_GENDER FLAG_OWN_CAR  \\\n",
       "0      100002       1         Cash loans           M            N   \n",
       "1      100003       0         Cash loans           F            N   \n",
       "2      100004       0    Revolving loans           M            Y   \n",
       "\n",
       "  FLAG_OWN_REALTY  CNT_CHILDREN  AMT_INCOME_TOTAL  AMT_CREDIT  AMT_ANNUITY  \\\n",
       "0               Y             0          202500.0    406597.5      24700.5   \n",
       "1               N             0          270000.0   1293502.5      35698.5   \n",
       "2               Y             0           67500.0    135000.0       6750.0   \n",
       "\n",
       "   ...  FLAG_DOCUMENT_18 FLAG_DOCUMENT_19 FLAG_DOCUMENT_20 FLAG_DOCUMENT_21  \\\n",
       "0  ...                 0                0                0                0   \n",
       "1  ...                 0                0                0                0   \n",
       "2  ...                 0                0                0                0   \n",
       "\n",
       "  AMT_REQ_CREDIT_BUREAU_HOUR AMT_REQ_CREDIT_BUREAU_DAY  \\\n",
       "0                        0.0                       0.0   \n",
       "1                        0.0                       0.0   \n",
       "2                        0.0                       0.0   \n",
       "\n",
       "   AMT_REQ_CREDIT_BUREAU_WEEK  AMT_REQ_CREDIT_BUREAU_MON  \\\n",
       "0                         0.0                        0.0   \n",
       "1                         0.0                        0.0   \n",
       "2                         0.0                        0.0   \n",
       "\n",
       "   AMT_REQ_CREDIT_BUREAU_QRT  AMT_REQ_CREDIT_BUREAU_YEAR  \n",
       "0                        0.0                         1.0  \n",
       "1                        0.0                         0.0  \n",
       "2                        0.0                         0.0  \n",
       "\n",
       "[3 rows x 122 columns]"
      ]
     },
     "execution_count": 6,
     "metadata": {},
     "output_type": "execute_result"
    }
   ],
   "source": [
    "train.head(3)"
   ]
  },
  {
   "cell_type": "code",
   "execution_count": 7,
   "id": "2cb56a09",
   "metadata": {},
   "outputs": [
    {
     "data": {
      "text/plain": [
       "float64    65\n",
       "int64      41\n",
       "object     16\n",
       "Name: count, dtype: int64"
      ]
     },
     "metadata": {},
     "output_type": "display_data"
    },
    {
     "data": {
      "text/html": [
       "<div>\n",
       "<style scoped>\n",
       "    .dataframe tbody tr th:only-of-type {\n",
       "        vertical-align: middle;\n",
       "    }\n",
       "\n",
       "    .dataframe tbody tr th {\n",
       "        vertical-align: top;\n",
       "    }\n",
       "\n",
       "    .dataframe thead th {\n",
       "        text-align: right;\n",
       "    }\n",
       "</style>\n",
       "<table border=\"1\" class=\"dataframe\">\n",
       "  <thead>\n",
       "    <tr style=\"text-align: right;\">\n",
       "      <th></th>\n",
       "      <th>count</th>\n",
       "      <th>mean</th>\n",
       "      <th>std</th>\n",
       "      <th>min</th>\n",
       "      <th>25%</th>\n",
       "      <th>50%</th>\n",
       "      <th>75%</th>\n",
       "      <th>max</th>\n",
       "    </tr>\n",
       "  </thead>\n",
       "  <tbody>\n",
       "    <tr>\n",
       "      <th>SK_ID_CURR</th>\n",
       "      <td>307511.0</td>\n",
       "      <td>278180.518577</td>\n",
       "      <td>102790.175348</td>\n",
       "      <td>100002.00000</td>\n",
       "      <td>189145.500000</td>\n",
       "      <td>278202.00000</td>\n",
       "      <td>367142.500000</td>\n",
       "      <td>4.562550e+05</td>\n",
       "    </tr>\n",
       "    <tr>\n",
       "      <th>TARGET</th>\n",
       "      <td>307511.0</td>\n",
       "      <td>0.080729</td>\n",
       "      <td>0.272419</td>\n",
       "      <td>0.00000</td>\n",
       "      <td>0.000000</td>\n",
       "      <td>0.00000</td>\n",
       "      <td>0.000000</td>\n",
       "      <td>1.000000e+00</td>\n",
       "    </tr>\n",
       "    <tr>\n",
       "      <th>CNT_CHILDREN</th>\n",
       "      <td>307511.0</td>\n",
       "      <td>0.417052</td>\n",
       "      <td>0.722121</td>\n",
       "      <td>0.00000</td>\n",
       "      <td>0.000000</td>\n",
       "      <td>0.00000</td>\n",
       "      <td>1.000000</td>\n",
       "      <td>1.900000e+01</td>\n",
       "    </tr>\n",
       "    <tr>\n",
       "      <th>AMT_INCOME_TOTAL</th>\n",
       "      <td>307511.0</td>\n",
       "      <td>168797.919297</td>\n",
       "      <td>237123.146279</td>\n",
       "      <td>25650.00000</td>\n",
       "      <td>112500.000000</td>\n",
       "      <td>147150.00000</td>\n",
       "      <td>202500.000000</td>\n",
       "      <td>1.170000e+08</td>\n",
       "    </tr>\n",
       "    <tr>\n",
       "      <th>AMT_CREDIT</th>\n",
       "      <td>307511.0</td>\n",
       "      <td>599025.999706</td>\n",
       "      <td>402490.776996</td>\n",
       "      <td>45000.00000</td>\n",
       "      <td>270000.000000</td>\n",
       "      <td>513531.00000</td>\n",
       "      <td>808650.000000</td>\n",
       "      <td>4.050000e+06</td>\n",
       "    </tr>\n",
       "    <tr>\n",
       "      <th>AMT_ANNUITY</th>\n",
       "      <td>307499.0</td>\n",
       "      <td>27108.573909</td>\n",
       "      <td>14493.737315</td>\n",
       "      <td>1615.50000</td>\n",
       "      <td>16524.000000</td>\n",
       "      <td>24903.00000</td>\n",
       "      <td>34596.000000</td>\n",
       "      <td>2.580255e+05</td>\n",
       "    </tr>\n",
       "    <tr>\n",
       "      <th>AMT_GOODS_PRICE</th>\n",
       "      <td>307233.0</td>\n",
       "      <td>538396.207429</td>\n",
       "      <td>369446.460540</td>\n",
       "      <td>40500.00000</td>\n",
       "      <td>238500.000000</td>\n",
       "      <td>450000.00000</td>\n",
       "      <td>679500.000000</td>\n",
       "      <td>4.050000e+06</td>\n",
       "    </tr>\n",
       "    <tr>\n",
       "      <th>REGION_POPULATION_RELATIVE</th>\n",
       "      <td>307511.0</td>\n",
       "      <td>0.020868</td>\n",
       "      <td>0.013831</td>\n",
       "      <td>0.00029</td>\n",
       "      <td>0.010006</td>\n",
       "      <td>0.01885</td>\n",
       "      <td>0.028663</td>\n",
       "      <td>7.250800e-02</td>\n",
       "    </tr>\n",
       "    <tr>\n",
       "      <th>DAYS_BIRTH</th>\n",
       "      <td>307511.0</td>\n",
       "      <td>-16036.995067</td>\n",
       "      <td>4363.988632</td>\n",
       "      <td>-25229.00000</td>\n",
       "      <td>-19682.000000</td>\n",
       "      <td>-15750.00000</td>\n",
       "      <td>-12413.000000</td>\n",
       "      <td>-7.489000e+03</td>\n",
       "    </tr>\n",
       "    <tr>\n",
       "      <th>DAYS_EMPLOYED</th>\n",
       "      <td>307511.0</td>\n",
       "      <td>63815.045904</td>\n",
       "      <td>141275.766519</td>\n",
       "      <td>-17912.00000</td>\n",
       "      <td>-2760.000000</td>\n",
       "      <td>-1213.00000</td>\n",
       "      <td>-289.000000</td>\n",
       "      <td>3.652430e+05</td>\n",
       "    </tr>\n",
       "    <tr>\n",
       "      <th>DAYS_REGISTRATION</th>\n",
       "      <td>307511.0</td>\n",
       "      <td>-4986.120328</td>\n",
       "      <td>3522.886321</td>\n",
       "      <td>-24672.00000</td>\n",
       "      <td>-7479.500000</td>\n",
       "      <td>-4504.00000</td>\n",
       "      <td>-2010.000000</td>\n",
       "      <td>0.000000e+00</td>\n",
       "    </tr>\n",
       "    <tr>\n",
       "      <th>DAYS_ID_PUBLISH</th>\n",
       "      <td>307511.0</td>\n",
       "      <td>-2994.202373</td>\n",
       "      <td>1509.450419</td>\n",
       "      <td>-7197.00000</td>\n",
       "      <td>-4299.000000</td>\n",
       "      <td>-3254.00000</td>\n",
       "      <td>-1720.000000</td>\n",
       "      <td>0.000000e+00</td>\n",
       "    </tr>\n",
       "    <tr>\n",
       "      <th>OWN_CAR_AGE</th>\n",
       "      <td>104582.0</td>\n",
       "      <td>12.061091</td>\n",
       "      <td>11.944812</td>\n",
       "      <td>0.00000</td>\n",
       "      <td>5.000000</td>\n",
       "      <td>9.00000</td>\n",
       "      <td>15.000000</td>\n",
       "      <td>9.100000e+01</td>\n",
       "    </tr>\n",
       "    <tr>\n",
       "      <th>FLAG_MOBIL</th>\n",
       "      <td>307511.0</td>\n",
       "      <td>0.999997</td>\n",
       "      <td>0.001803</td>\n",
       "      <td>0.00000</td>\n",
       "      <td>1.000000</td>\n",
       "      <td>1.00000</td>\n",
       "      <td>1.000000</td>\n",
       "      <td>1.000000e+00</td>\n",
       "    </tr>\n",
       "    <tr>\n",
       "      <th>FLAG_EMP_PHONE</th>\n",
       "      <td>307511.0</td>\n",
       "      <td>0.819889</td>\n",
       "      <td>0.384280</td>\n",
       "      <td>0.00000</td>\n",
       "      <td>1.000000</td>\n",
       "      <td>1.00000</td>\n",
       "      <td>1.000000</td>\n",
       "      <td>1.000000e+00</td>\n",
       "    </tr>\n",
       "  </tbody>\n",
       "</table>\n",
       "</div>"
      ],
      "text/plain": [
       "                               count           mean            std  \\\n",
       "SK_ID_CURR                  307511.0  278180.518577  102790.175348   \n",
       "TARGET                      307511.0       0.080729       0.272419   \n",
       "CNT_CHILDREN                307511.0       0.417052       0.722121   \n",
       "AMT_INCOME_TOTAL            307511.0  168797.919297  237123.146279   \n",
       "AMT_CREDIT                  307511.0  599025.999706  402490.776996   \n",
       "AMT_ANNUITY                 307499.0   27108.573909   14493.737315   \n",
       "AMT_GOODS_PRICE             307233.0  538396.207429  369446.460540   \n",
       "REGION_POPULATION_RELATIVE  307511.0       0.020868       0.013831   \n",
       "DAYS_BIRTH                  307511.0  -16036.995067    4363.988632   \n",
       "DAYS_EMPLOYED               307511.0   63815.045904  141275.766519   \n",
       "DAYS_REGISTRATION           307511.0   -4986.120328    3522.886321   \n",
       "DAYS_ID_PUBLISH             307511.0   -2994.202373    1509.450419   \n",
       "OWN_CAR_AGE                 104582.0      12.061091      11.944812   \n",
       "FLAG_MOBIL                  307511.0       0.999997       0.001803   \n",
       "FLAG_EMP_PHONE              307511.0       0.819889       0.384280   \n",
       "\n",
       "                                     min            25%           50%  \\\n",
       "SK_ID_CURR                  100002.00000  189145.500000  278202.00000   \n",
       "TARGET                           0.00000       0.000000       0.00000   \n",
       "CNT_CHILDREN                     0.00000       0.000000       0.00000   \n",
       "AMT_INCOME_TOTAL             25650.00000  112500.000000  147150.00000   \n",
       "AMT_CREDIT                   45000.00000  270000.000000  513531.00000   \n",
       "AMT_ANNUITY                   1615.50000   16524.000000   24903.00000   \n",
       "AMT_GOODS_PRICE              40500.00000  238500.000000  450000.00000   \n",
       "REGION_POPULATION_RELATIVE       0.00029       0.010006       0.01885   \n",
       "DAYS_BIRTH                  -25229.00000  -19682.000000  -15750.00000   \n",
       "DAYS_EMPLOYED               -17912.00000   -2760.000000   -1213.00000   \n",
       "DAYS_REGISTRATION           -24672.00000   -7479.500000   -4504.00000   \n",
       "DAYS_ID_PUBLISH              -7197.00000   -4299.000000   -3254.00000   \n",
       "OWN_CAR_AGE                      0.00000       5.000000       9.00000   \n",
       "FLAG_MOBIL                       0.00000       1.000000       1.00000   \n",
       "FLAG_EMP_PHONE                   0.00000       1.000000       1.00000   \n",
       "\n",
       "                                      75%           max  \n",
       "SK_ID_CURR                  367142.500000  4.562550e+05  \n",
       "TARGET                           0.000000  1.000000e+00  \n",
       "CNT_CHILDREN                     1.000000  1.900000e+01  \n",
       "AMT_INCOME_TOTAL            202500.000000  1.170000e+08  \n",
       "AMT_CREDIT                  808650.000000  4.050000e+06  \n",
       "AMT_ANNUITY                  34596.000000  2.580255e+05  \n",
       "AMT_GOODS_PRICE             679500.000000  4.050000e+06  \n",
       "REGION_POPULATION_RELATIVE       0.028663  7.250800e-02  \n",
       "DAYS_BIRTH                  -12413.000000 -7.489000e+03  \n",
       "DAYS_EMPLOYED                 -289.000000  3.652430e+05  \n",
       "DAYS_REGISTRATION            -2010.000000  0.000000e+00  \n",
       "DAYS_ID_PUBLISH              -1720.000000  0.000000e+00  \n",
       "OWN_CAR_AGE                     15.000000  9.100000e+01  \n",
       "FLAG_MOBIL                       1.000000  1.000000e+00  \n",
       "FLAG_EMP_PHONE                   1.000000  1.000000e+00  "
      ]
     },
     "metadata": {},
     "output_type": "display_data"
    },
    {
     "data": {
      "text/html": [
       "<div>\n",
       "<style scoped>\n",
       "    .dataframe tbody tr th:only-of-type {\n",
       "        vertical-align: middle;\n",
       "    }\n",
       "\n",
       "    .dataframe tbody tr th {\n",
       "        vertical-align: top;\n",
       "    }\n",
       "\n",
       "    .dataframe thead th {\n",
       "        text-align: right;\n",
       "    }\n",
       "</style>\n",
       "<table border=\"1\" class=\"dataframe\">\n",
       "  <thead>\n",
       "    <tr style=\"text-align: right;\">\n",
       "      <th></th>\n",
       "      <th>missing_rate</th>\n",
       "    </tr>\n",
       "  </thead>\n",
       "  <tbody>\n",
       "    <tr>\n",
       "      <th>COMMONAREA_AVG</th>\n",
       "      <td>0.698723</td>\n",
       "    </tr>\n",
       "    <tr>\n",
       "      <th>COMMONAREA_MODE</th>\n",
       "      <td>0.698723</td>\n",
       "    </tr>\n",
       "    <tr>\n",
       "      <th>COMMONAREA_MEDI</th>\n",
       "      <td>0.698723</td>\n",
       "    </tr>\n",
       "    <tr>\n",
       "      <th>NONLIVINGAPARTMENTS_MEDI</th>\n",
       "      <td>0.694330</td>\n",
       "    </tr>\n",
       "    <tr>\n",
       "      <th>NONLIVINGAPARTMENTS_MODE</th>\n",
       "      <td>0.694330</td>\n",
       "    </tr>\n",
       "    <tr>\n",
       "      <th>NONLIVINGAPARTMENTS_AVG</th>\n",
       "      <td>0.694330</td>\n",
       "    </tr>\n",
       "    <tr>\n",
       "      <th>FONDKAPREMONT_MODE</th>\n",
       "      <td>0.683862</td>\n",
       "    </tr>\n",
       "    <tr>\n",
       "      <th>LIVINGAPARTMENTS_AVG</th>\n",
       "      <td>0.683550</td>\n",
       "    </tr>\n",
       "    <tr>\n",
       "      <th>LIVINGAPARTMENTS_MEDI</th>\n",
       "      <td>0.683550</td>\n",
       "    </tr>\n",
       "    <tr>\n",
       "      <th>LIVINGAPARTMENTS_MODE</th>\n",
       "      <td>0.683550</td>\n",
       "    </tr>\n",
       "    <tr>\n",
       "      <th>FLOORSMIN_MODE</th>\n",
       "      <td>0.678486</td>\n",
       "    </tr>\n",
       "    <tr>\n",
       "      <th>FLOORSMIN_AVG</th>\n",
       "      <td>0.678486</td>\n",
       "    </tr>\n",
       "    <tr>\n",
       "      <th>FLOORSMIN_MEDI</th>\n",
       "      <td>0.678486</td>\n",
       "    </tr>\n",
       "    <tr>\n",
       "      <th>YEARS_BUILD_AVG</th>\n",
       "      <td>0.664978</td>\n",
       "    </tr>\n",
       "    <tr>\n",
       "      <th>YEARS_BUILD_MODE</th>\n",
       "      <td>0.664978</td>\n",
       "    </tr>\n",
       "    <tr>\n",
       "      <th>YEARS_BUILD_MEDI</th>\n",
       "      <td>0.664978</td>\n",
       "    </tr>\n",
       "    <tr>\n",
       "      <th>OWN_CAR_AGE</th>\n",
       "      <td>0.659908</td>\n",
       "    </tr>\n",
       "    <tr>\n",
       "      <th>LANDAREA_MEDI</th>\n",
       "      <td>0.593767</td>\n",
       "    </tr>\n",
       "    <tr>\n",
       "      <th>LANDAREA_AVG</th>\n",
       "      <td>0.593767</td>\n",
       "    </tr>\n",
       "    <tr>\n",
       "      <th>LANDAREA_MODE</th>\n",
       "      <td>0.593767</td>\n",
       "    </tr>\n",
       "  </tbody>\n",
       "</table>\n",
       "</div>"
      ],
      "text/plain": [
       "                          missing_rate\n",
       "COMMONAREA_AVG                0.698723\n",
       "COMMONAREA_MODE               0.698723\n",
       "COMMONAREA_MEDI               0.698723\n",
       "NONLIVINGAPARTMENTS_MEDI      0.694330\n",
       "NONLIVINGAPARTMENTS_MODE      0.694330\n",
       "NONLIVINGAPARTMENTS_AVG       0.694330\n",
       "FONDKAPREMONT_MODE            0.683862\n",
       "LIVINGAPARTMENTS_AVG          0.683550\n",
       "LIVINGAPARTMENTS_MEDI         0.683550\n",
       "LIVINGAPARTMENTS_MODE         0.683550\n",
       "FLOORSMIN_MODE                0.678486\n",
       "FLOORSMIN_AVG                 0.678486\n",
       "FLOORSMIN_MEDI                0.678486\n",
       "YEARS_BUILD_AVG               0.664978\n",
       "YEARS_BUILD_MODE              0.664978\n",
       "YEARS_BUILD_MEDI              0.664978\n",
       "OWN_CAR_AGE                   0.659908\n",
       "LANDAREA_MEDI                 0.593767\n",
       "LANDAREA_AVG                  0.593767\n",
       "LANDAREA_MODE                 0.593767"
      ]
     },
     "execution_count": 7,
     "metadata": {},
     "output_type": "execute_result"
    }
   ],
   "source": [
    "display(train.dtypes.value_counts())\n",
    "\n",
    "# Stats numériques (aperçu)\n",
    "display(train.describe(include=\"number\").T.head(15))\n",
    "\n",
    "# % de NaN\n",
    "na_pct = train.isna().mean().sort_values(ascending=False).to_frame(\"missing_rate\")\n",
    "na_pct.head(20)"
   ]
  },
  {
   "cell_type": "code",
   "execution_count": 8,
   "id": "a1576001",
   "metadata": {},
   "outputs": [
    {
     "data": {
      "image/png": "[encoded data removed]",
      "text/plain": [
       "<Figure size 2500x1000 with 2 Axes>"
      ]
     },
     "metadata": {},
     "output_type": "display_data"
    }
   ],
   "source": [
    "msno.matrix(train);"
   ]
  },
  {
   "cell_type": "code",
   "execution_count": 9,
   "id": "2f2ed745",
   "metadata": {},
   "outputs": [
    {
     "data": {
      "image/png": "[encoded data removed]",
      "text/plain": [
       "<Figure size 640x480 with 1 Axes>"
      ]
     },
     "metadata": {},
     "output_type": "display_data"
    },
    {
     "data": {
      "text/plain": [
       "TARGET\n",
       "0    0.9193\n",
       "1    0.0807\n",
       "Name: count, dtype: float64"
      ]
     },
     "execution_count": 9,
     "metadata": {},
     "output_type": "execute_result"
    }
   ],
   "source": [
    "target_counts = train[\"TARGET\"].value_counts()\n",
    "ax = target_counts.plot(kind=\"bar\")\n",
    "ax.set_title(\"Distribution de TARGET\"); ax.set_xlabel(\"Classe\"); ax.set_ylabel(\"Effectif\")\n",
    "plt.show()\n",
    "\n",
    "(target_counts/len(train)).round(4)"
   ]
  },
  {
   "cell_type": "code",
   "execution_count": 10,
   "id": "5125ea1b",
   "metadata": {},
   "outputs": [],
   "source": [
    "# Feature engineering\n",
    "for df in (train, test):\n",
    "    df.loc[df[\"DAYS_EMPLOYED\"] > 365000, \"DAYS_EMPLOYED\"] = np.nan\n",
    "    df[\"AGE_YEARS\"] = (-df[\"DAYS_BIRTH\"] / 365).astype(float)\n",
    "    df[\"EMP_YEARS\"] = (-df[\"DAYS_EMPLOYED\"] / 365)\n",
    "\n",
    "    df[\"CREDIT_INCOME_RATIO\"] = df[\"AMT_CREDIT\"] / (df[\"AMT_INCOME_TOTAL\"] + 1e-6)\n",
    "    df[\"ANNUITY_INCOME_RATIO\"] = df[\"AMT_ANNUITY\"] / (df[\"AMT_INCOME_TOTAL\"] + 1e-6)\n",
    "    df[\"ANNUITY_CREDIT_RATIO\"] = df[\"AMT_ANNUITY\"] / (df[\"AMT_CREDIT\"] + 1e-6)\n",
    "    df[\"GOODS_CREDIT_RATIO\"]  = df[\"AMT_GOODS_PRICE\"] / (df[\"AMT_CREDIT\"] + 1e-6)\n",
    "\n",
    "    for a,b in [(\"EXT_SOURCE_1\",\"EXT_SOURCE_2\"), (\"EXT_SOURCE_2\",\"EXT_SOURCE_3\"), (\"EXT_SOURCE_1\",\"EXT_SOURCE_3\")]:\n",
    "        if a in df.columns and b in df.columns:\n",
    "            df[f\"{a}_x_{b}\"]    = df[a] * df[b]\n",
    "            df[f\"{a}_plus_{b}\"] = df[a] + df[b]"
   ]
  },
  {
   "cell_type": "code",
   "execution_count": 11,
   "id": "03176af5",
   "metadata": {},
   "outputs": [
    {
     "data": {
      "text/plain": [
       "((246008, 133), (61503, 133))"
      ]
     },
     "execution_count": 11,
     "metadata": {},
     "output_type": "execute_result"
    }
   ],
   "source": [
    "y = train[\"TARGET\"]\n",
    "X = train.drop(columns=[\"TARGET\"])\n",
    "\n",
    "X_train, X_valid, y_train, y_valid = train_test_split(\n",
    "    X, y, test_size=0.2, random_state=42, stratify=y\n",
    ")\n",
    "X_train.shape, X_valid.shape"
   ]
  },
  {
   "cell_type": "code",
   "execution_count": 12,
   "id": "ad083403",
   "metadata": {},
   "outputs": [
    {
     "data": {
      "text/plain": [
       "(117, 16)"
      ]
     },
     "execution_count": 12,
     "metadata": {},
     "output_type": "execute_result"
    }
   ],
   "source": [
    "num_cols = X_train.select_dtypes(include=[\"int64\",\"float64\"]).columns.tolist()\n",
    "cat_cols = X_train.select_dtypes(include=[\"object\",\"category\",\"bool\"]).columns.tolist()\n",
    "\n",
    "numeric_transformer = Pipeline(steps=[\n",
    "    (\"imputer\", SimpleImputer(strategy=\"median\")),\n",
    "    (\"scaler\", StandardScaler(with_mean=False)),  # compat. sparse\n",
    "])\n",
    "\n",
    "categorical_transformer = Pipeline(steps=[\n",
    "    (\"imputer\", SimpleImputer(strategy=\"most_frequent\")),\n",
    "    (\"encoder\", OneHotEncoder(handle_unknown=\"ignore\"))\n",
    "])\n",
    "\n",
    "preprocessor = ColumnTransformer(\n",
    "    transformers=[\n",
    "        (\"num\", numeric_transformer, num_cols),\n",
    "        (\"cat\", categorical_transformer, cat_cols),\n",
    "    ]\n",
    ")\n",
    "\n",
    "len(num_cols), len(cat_cols)"
   ]
  },
  {
   "cell_type": "code",
   "execution_count": 13,
   "id": "a7b4efaf",
   "metadata": {},
   "outputs": [],
   "source": [
    "def eval_auc(model, X_tr, y_tr, X_va, y_va):\n",
    "    p_tr = model.predict_proba(X_tr)[:,1]\n",
    "    p_va = model.predict_proba(X_va)[:,1]\n",
    "    return roc_auc_score(y_tr, p_tr), roc_auc_score(y_va, p_va)"
   ]
  },
  {
   "cell_type": "code",
   "execution_count": 14,
   "id": "83fc7137",
   "metadata": {},
   "outputs": [
    {
     "name": "stderr",
     "output_type": "stream",
     "text": [
      "/home/nicolasd/.pyenv/versions/3.10.6/envs/scoring_project7/lib/python3.10/site-packages/sklearn/linear_model/_sag.py:348: ConvergenceWarning: The max_iter was reached which means the coef_ did not converge\n",
      "  warnings.warn(\n"
     ]
    },
    {
     "name": "stdout",
     "output_type": "stream",
     "text": [
      "[LightGBM] [Info] Number of positive: 19860, number of negative: 226148\n",
      "[LightGBM] [Info] Auto-choosing col-wise multi-threading, the overhead of testing was 0.122079 seconds.\n",
      "You can set `force_col_wise=true` to remove the overhead.\n",
      "[LightGBM] [Info] Total Bins 14759\n",
      "[LightGBM] [Info] Number of data points in the train set: 246008, number of used features: 246\n",
      "[LightGBM] [Info] [binary:BoostFromScore]: pavg=0.080729 -> initscore=-2.432482\n",
      "[LightGBM] [Info] Start training from score -2.432482\n"
     ]
    },
    {
     "name": "stderr",
     "output_type": "stream",
     "text": [
      "/home/nicolasd/.pyenv/versions/3.10.6/envs/scoring_project7/lib/python3.10/site-packages/sklearn/utils/validation.py:2749: UserWarning: X does not have valid feature names, but LGBMClassifier was fitted with feature names\n",
      "  warnings.warn(\n",
      "/home/nicolasd/.pyenv/versions/3.10.6/envs/scoring_project7/lib/python3.10/site-packages/sklearn/utils/validation.py:2749: UserWarning: X does not have valid feature names, but LGBMClassifier was fitted with feature names\n",
      "  warnings.warn(\n"
     ]
    },
    {
     "data": {
      "text/html": [
       "<div>\n",
       "<style scoped>\n",
       "    .dataframe tbody tr th:only-of-type {\n",
       "        vertical-align: middle;\n",
       "    }\n",
       "\n",
       "    .dataframe tbody tr th {\n",
       "        vertical-align: top;\n",
       "    }\n",
       "\n",
       "    .dataframe thead th {\n",
       "        text-align: right;\n",
       "    }\n",
       "</style>\n",
       "<table border=\"1\" class=\"dataframe\">\n",
       "  <thead>\n",
       "    <tr style=\"text-align: right;\">\n",
       "      <th></th>\n",
       "      <th>model</th>\n",
       "      <th>auc_train</th>\n",
       "      <th>auc_valid</th>\n",
       "    </tr>\n",
       "  </thead>\n",
       "  <tbody>\n",
       "    <tr>\n",
       "      <th>2</th>\n",
       "      <td>LightGBM</td>\n",
       "      <td>0.930568</td>\n",
       "      <td>0.766911</td>\n",
       "    </tr>\n",
       "    <tr>\n",
       "      <th>0</th>\n",
       "      <td>LogReg</td>\n",
       "      <td>0.751681</td>\n",
       "      <td>0.751054</td>\n",
       "    </tr>\n",
       "    <tr>\n",
       "      <th>1</th>\n",
       "      <td>RandomForest</td>\n",
       "      <td>1.000000</td>\n",
       "      <td>0.745732</td>\n",
       "    </tr>\n",
       "  </tbody>\n",
       "</table>\n",
       "</div>"
      ],
      "text/plain": [
       "          model  auc_train  auc_valid\n",
       "2      LightGBM   0.930568   0.766911\n",
       "0        LogReg   0.751681   0.751054\n",
       "1  RandomForest   1.000000   0.745732"
      ]
     },
     "execution_count": 14,
     "metadata": {},
     "output_type": "execute_result"
    }
   ],
   "source": [
    "results = []\n",
    "\n",
    "# 1) Logistic Regression (ponderation classes)\n",
    "logreg = Pipeline(steps=[\n",
    "    (\"prep\", preprocessor),\n",
    "    (\"clf\", LogisticRegression(\n",
    "        solver=\"saga\",\n",
    "        penalty=\"l2\",\n",
    "        max_iter=2000,\n",
    "        class_weight=\"balanced\",\n",
    "        n_jobs=-1\n",
    "    ))\n",
    "])\n",
    "logreg.fit(X_train, y_train)\n",
    "auc_tr, auc_va = eval_auc(logreg, X_train, y_train, X_valid, y_valid)\n",
    "results.append((\"LogReg\", auc_tr, auc_va))\n",
    "\n",
    "# 2) RandomForest\n",
    "rf = Pipeline(steps=[\n",
    "    (\"prep\", preprocessor),\n",
    "    (\"clf\", RandomForestClassifier(\n",
    "        n_estimators=300, random_state=42, class_weight=\"balanced_subsample\"\n",
    "    ))\n",
    "])\n",
    "rf.fit(X_train, y_train)\n",
    "auc_tr, auc_va = eval_auc(rf, X_train, y_train, X_valid, y_valid)\n",
    "results.append((\"RandomForest\", auc_tr, auc_va))\n",
    "\n",
    "# 3) LightGBM (params simples)\n",
    "lgbm = Pipeline(steps=[\n",
    "    (\"prep\", preprocessor),\n",
    "    (\"clf\", lgb.LGBMClassifier(\n",
    "        n_estimators=600, learning_rate=0.05, num_leaves=64,\n",
    "        subsample=0.8, colsample_bytree=0.8, random_state=42\n",
    "    ))\n",
    "])\n",
    "lgbm.fit(X_train, y_train)\n",
    "auc_tr, auc_va = eval_auc(lgbm, X_train, y_train, X_valid, y_valid)\n",
    "results.append((\"LightGBM\", auc_tr, auc_va))\n",
    "\n",
    "pd.DataFrame(results, columns=[\"model\",\"auc_train\",\"auc_valid\"]).sort_values(\"auc_valid\", ascending=False)"
   ]
  },
  {
   "cell_type": "code",
   "execution_count": 15,
   "id": "08ab7302",
   "metadata": {},
   "outputs": [
    {
     "name": "stderr",
     "output_type": "stream",
     "text": [
      "/home/nicolasd/.pyenv/versions/3.10.6/envs/scoring_project7/lib/python3.10/site-packages/sklearn/utils/validation.py:2749: UserWarning: X does not have valid feature names, but LGBMClassifier was fitted with feature names\n",
      "  warnings.warn(\n"
     ]
    },
    {
     "name": "stdout",
     "output_type": "stream",
     "text": [
      "AUC valid = 0.7669\n",
      "Seuil métier optimal = 0.080 | Coût validation = 32058.0\n"
     ]
    }
   ],
   "source": [
    "COST_FN = 10.0  # coût faux négatif (accorder un mauvais client)\n",
    "COST_FP = 1.0   # coût faux positif (refuser un bon client)\n",
    "\n",
    "def business_cost(y_true, y_prob, threshold=0.5, cost_fn=COST_FN, cost_fp=COST_FP):\n",
    "    y_pred = (y_prob >= threshold).astype(int)\n",
    "    tn, fp, fn, tp = confusion_matrix(y_true, y_pred, labels=[0,1]).ravel()\n",
    "    return fn * cost_fn + fp * cost_fp\n",
    "\n",
    "def find_best_threshold(y_true, y_prob, cost_fn=COST_FN, cost_fp=COST_FP):\n",
    "    thresholds = np.linspace(0.01, 0.99, 99)\n",
    "    costs = [business_cost(y_true, y_prob, t, cost_fn, cost_fp) for t in thresholds]\n",
    "    best_idx = int(np.argmin(costs))\n",
    "    return float(thresholds[best_idx]), float(costs[best_idx])\n",
    "\n",
    "# On prend le meilleur modèle AUC\n",
    "best_model = lgbm\n",
    "y_valid_prob = best_model.predict_proba(X_valid)[:,1]\n",
    "best_th, best_cost = find_best_threshold(y_valid, y_valid_prob)\n",
    "auc_val = roc_auc_score(y_valid, y_valid_prob)\n",
    "\n",
    "print(f\"AUC valid = {auc_val:.4f}\")\n",
    "print(f\"Seuil métier optimal = {best_th:.3f} | Coût validation = {best_cost:.1f}\")"
   ]
  },
  {
   "cell_type": "code",
   "execution_count": 16,
   "id": "7afd3152",
   "metadata": {},
   "outputs": [
    {
     "data": {
      "image/png": "[encoded data removed]",
      "text/plain": [
       "<Figure size 640x480 with 1 Axes>"
      ]
     },
     "metadata": {},
     "output_type": "display_data"
    },
    {
     "name": "stdout",
     "output_type": "stream",
     "text": [
      "Seuil choisi (métier) = 0.080\n"
     ]
    }
   ],
   "source": [
    "fpr, tpr, thr = roc_curve(y_valid, y_valid_prob)\n",
    "plt.figure()\n",
    "plt.plot(fpr, tpr, label=f\"ROC (AUC={auc_val:.3f})\")\n",
    "plt.plot([0,1],[0,1],\"--\", label=\"Aléatoire\")\n",
    "plt.title(\"Courbe ROC - Validation\")\n",
    "plt.xlabel(\"FPR\"); plt.ylabel(\"TPR\"); plt.legend(); plt.show()\n",
    "\n",
    "print(f\"Seuil choisi (métier) = {best_th:.3f}\")"
   ]
  },
  {
   "cell_type": "code",
   "execution_count": 17,
   "id": "ef1ed76c",
   "metadata": {},
   "outputs": [
    {
     "name": "stdout",
     "output_type": "stream",
     "text": [
      "RAM train: 564.8 MB | RAM test: 89.2 MB\n"
     ]
    },
    {
     "data": {
      "text/plain": [
       "(float64    78\n",
       " int64      40\n",
       " object     16\n",
       " Name: count, dtype: int64,\n",
       " float64    78\n",
       " int64      39\n",
       " object     16\n",
       " Name: count, dtype: int64)"
      ]
     },
     "execution_count": 17,
     "metadata": {},
     "output_type": "execute_result"
    }
   ],
   "source": [
    "def mem_mb(df):\n",
    "    return df.memory_usage(deep=True).sum() / 1024**2\n",
    "\n",
    "print(f\"RAM train: {mem_mb(train):.1f} MB | RAM test: {mem_mb(test):.1f} MB\")\n",
    "\n",
    "dtype_counts_train = train.dtypes.value_counts()\n",
    "dtype_counts_test  = test.dtypes.value_counts()\n",
    "dtype_counts_train, dtype_counts_test"
   ]
  },
  {
   "cell_type": "code",
   "execution_count": 18,
   "id": "789ac385",
   "metadata": {},
   "outputs": [
    {
     "data": {
      "text/html": [
       "<div>\n",
       "<style scoped>\n",
       "    .dataframe tbody tr th:only-of-type {\n",
       "        vertical-align: middle;\n",
       "    }\n",
       "\n",
       "    .dataframe tbody tr th {\n",
       "        vertical-align: top;\n",
       "    }\n",
       "\n",
       "    .dataframe thead th {\n",
       "        text-align: right;\n",
       "    }\n",
       "</style>\n",
       "<table border=\"1\" class=\"dataframe\">\n",
       "  <thead>\n",
       "    <tr style=\"text-align: right;\">\n",
       "      <th></th>\n",
       "      <th>missing_rate</th>\n",
       "    </tr>\n",
       "  </thead>\n",
       "  <tbody>\n",
       "    <tr>\n",
       "      <th>COMMONAREA_AVG</th>\n",
       "      <td>0.698723</td>\n",
       "    </tr>\n",
       "    <tr>\n",
       "      <th>COMMONAREA_MODE</th>\n",
       "      <td>0.698723</td>\n",
       "    </tr>\n",
       "    <tr>\n",
       "      <th>COMMONAREA_MEDI</th>\n",
       "      <td>0.698723</td>\n",
       "    </tr>\n",
       "    <tr>\n",
       "      <th>NONLIVINGAPARTMENTS_AVG</th>\n",
       "      <td>0.694330</td>\n",
       "    </tr>\n",
       "    <tr>\n",
       "      <th>NONLIVINGAPARTMENTS_MEDI</th>\n",
       "      <td>0.694330</td>\n",
       "    </tr>\n",
       "    <tr>\n",
       "      <th>NONLIVINGAPARTMENTS_MODE</th>\n",
       "      <td>0.694330</td>\n",
       "    </tr>\n",
       "    <tr>\n",
       "      <th>FONDKAPREMONT_MODE</th>\n",
       "      <td>0.683862</td>\n",
       "    </tr>\n",
       "    <tr>\n",
       "      <th>LIVINGAPARTMENTS_MEDI</th>\n",
       "      <td>0.683550</td>\n",
       "    </tr>\n",
       "    <tr>\n",
       "      <th>LIVINGAPARTMENTS_AVG</th>\n",
       "      <td>0.683550</td>\n",
       "    </tr>\n",
       "    <tr>\n",
       "      <th>LIVINGAPARTMENTS_MODE</th>\n",
       "      <td>0.683550</td>\n",
       "    </tr>\n",
       "    <tr>\n",
       "      <th>FLOORSMIN_MODE</th>\n",
       "      <td>0.678486</td>\n",
       "    </tr>\n",
       "    <tr>\n",
       "      <th>FLOORSMIN_AVG</th>\n",
       "      <td>0.678486</td>\n",
       "    </tr>\n",
       "    <tr>\n",
       "      <th>FLOORSMIN_MEDI</th>\n",
       "      <td>0.678486</td>\n",
       "    </tr>\n",
       "    <tr>\n",
       "      <th>YEARS_BUILD_MEDI</th>\n",
       "      <td>0.664978</td>\n",
       "    </tr>\n",
       "    <tr>\n",
       "      <th>YEARS_BUILD_MODE</th>\n",
       "      <td>0.664978</td>\n",
       "    </tr>\n",
       "    <tr>\n",
       "      <th>YEARS_BUILD_AVG</th>\n",
       "      <td>0.664978</td>\n",
       "    </tr>\n",
       "    <tr>\n",
       "      <th>OWN_CAR_AGE</th>\n",
       "      <td>0.659908</td>\n",
       "    </tr>\n",
       "    <tr>\n",
       "      <th>EXT_SOURCE_1_x_EXT_SOURCE_3</th>\n",
       "      <td>0.643128</td>\n",
       "    </tr>\n",
       "    <tr>\n",
       "      <th>EXT_SOURCE_1_plus_EXT_SOURCE_3</th>\n",
       "      <td>0.643128</td>\n",
       "    </tr>\n",
       "    <tr>\n",
       "      <th>LANDAREA_AVG</th>\n",
       "      <td>0.593767</td>\n",
       "    </tr>\n",
       "    <tr>\n",
       "      <th>LANDAREA_MEDI</th>\n",
       "      <td>0.593767</td>\n",
       "    </tr>\n",
       "    <tr>\n",
       "      <th>LANDAREA_MODE</th>\n",
       "      <td>0.593767</td>\n",
       "    </tr>\n",
       "    <tr>\n",
       "      <th>BASEMENTAREA_AVG</th>\n",
       "      <td>0.585160</td>\n",
       "    </tr>\n",
       "    <tr>\n",
       "      <th>BASEMENTAREA_MEDI</th>\n",
       "      <td>0.585160</td>\n",
       "    </tr>\n",
       "    <tr>\n",
       "      <th>BASEMENTAREA_MODE</th>\n",
       "      <td>0.585160</td>\n",
       "    </tr>\n",
       "  </tbody>\n",
       "</table>\n",
       "</div>"
      ],
      "text/plain": [
       "                                missing_rate\n",
       "COMMONAREA_AVG                      0.698723\n",
       "COMMONAREA_MODE                     0.698723\n",
       "COMMONAREA_MEDI                     0.698723\n",
       "NONLIVINGAPARTMENTS_AVG             0.694330\n",
       "NONLIVINGAPARTMENTS_MEDI            0.694330\n",
       "NONLIVINGAPARTMENTS_MODE            0.694330\n",
       "FONDKAPREMONT_MODE                  0.683862\n",
       "LIVINGAPARTMENTS_MEDI               0.683550\n",
       "LIVINGAPARTMENTS_AVG                0.683550\n",
       "LIVINGAPARTMENTS_MODE               0.683550\n",
       "FLOORSMIN_MODE                      0.678486\n",
       "FLOORSMIN_AVG                       0.678486\n",
       "FLOORSMIN_MEDI                      0.678486\n",
       "YEARS_BUILD_MEDI                    0.664978\n",
       "YEARS_BUILD_MODE                    0.664978\n",
       "YEARS_BUILD_AVG                     0.664978\n",
       "OWN_CAR_AGE                         0.659908\n",
       "EXT_SOURCE_1_x_EXT_SOURCE_3         0.643128\n",
       "EXT_SOURCE_1_plus_EXT_SOURCE_3      0.643128\n",
       "LANDAREA_AVG                        0.593767\n",
       "LANDAREA_MEDI                       0.593767\n",
       "LANDAREA_MODE                       0.593767\n",
       "BASEMENTAREA_AVG                    0.585160\n",
       "BASEMENTAREA_MEDI                   0.585160\n",
       "BASEMENTAREA_MODE                   0.585160"
      ]
     },
     "execution_count": 18,
     "metadata": {},
     "output_type": "execute_result"
    }
   ],
   "source": [
    "na_pct = train.isna().mean().sort_values(ascending=False).to_frame(\"missing_rate\")\n",
    "na_pct.head(25)"
   ]
  },
  {
   "cell_type": "code",
   "execution_count": 19,
   "id": "38e2b5ce",
   "metadata": {},
   "outputs": [],
   "source": [
    "def oof_auc_and_cost(model, X, y, cost_fn=COST_FN, cost_fp=COST_FP, n_splits=5):\n",
    "    skf = StratifiedKFold(n_splits=n_splits, shuffle=True, random_state=42)\n",
    "    oof_prob = np.zeros(len(y))\n",
    "    for tr, va in skf.split(X, y):\n",
    "        model.fit(X.iloc[tr], y.iloc[tr])\n",
    "        oof_prob[va] = model.predict_proba(X.iloc[va])[:,1]\n",
    "    auc = roc_auc_score(y, oof_prob)\n",
    "    ths = np.linspace(0.01, 0.99, 99)\n",
    "    def cost_at(t):\n",
    "        y_pred = (oof_prob >= t).astype(int)\n",
    "        fp = ((y_pred==1) & (y==0)).sum()\n",
    "        fn = ((y_pred==0) & (y==1)).sum()\n",
    "        return fn*cost_fn + fp*cost_fp\n",
    "    costs = [(t, cost_at(t)) for t in ths]\n",
    "    best_th, best_cost = min(costs, key=lambda x: x[1])\n",
    "    return auc, best_th, best_cost, oof_prob"
   ]
  },
  {
   "cell_type": "code",
   "execution_count": 20,
   "id": "18b24dad",
   "metadata": {},
   "outputs": [
    {
     "name": "stdout",
     "output_type": "stream",
     "text": [
      "[LightGBM] [Info] Number of positive: 19860, number of negative: 226148\n",
      "[LightGBM] [Info] Auto-choosing col-wise multi-threading, the overhead of testing was 0.126742 seconds.\n",
      "You can set `force_col_wise=true` to remove the overhead.\n",
      "[LightGBM] [Info] Total Bins 14688\n",
      "[LightGBM] [Info] Number of data points in the train set: 246008, number of used features: 247\n",
      "[LightGBM] [Info] [binary:BoostFromScore]: pavg=0.080729 -> initscore=-2.432482\n",
      "[LightGBM] [Info] Start training from score -2.432482\n"
     ]
    },
    {
     "name": "stderr",
     "output_type": "stream",
     "text": [
      "/home/nicolasd/.pyenv/versions/3.10.6/envs/scoring_project7/lib/python3.10/site-packages/sklearn/utils/validation.py:2749: UserWarning: X does not have valid feature names, but LGBMClassifier was fitted with feature names\n",
      "  warnings.warn(\n"
     ]
    },
    {
     "name": "stdout",
     "output_type": "stream",
     "text": [
      "[LightGBM] [Info] Number of positive: 19860, number of negative: 226149\n",
      "[LightGBM] [Info] Auto-choosing col-wise multi-threading, the overhead of testing was 0.127567 seconds.\n",
      "You can set `force_col_wise=true` to remove the overhead.\n",
      "[LightGBM] [Info] Total Bins 14778\n",
      "[LightGBM] [Info] Number of data points in the train set: 246009, number of used features: 247\n",
      "[LightGBM] [Info] [binary:BoostFromScore]: pavg=0.080729 -> initscore=-2.432486\n",
      "[LightGBM] [Info] Start training from score -2.432486\n"
     ]
    },
    {
     "name": "stderr",
     "output_type": "stream",
     "text": [
      "/home/nicolasd/.pyenv/versions/3.10.6/envs/scoring_project7/lib/python3.10/site-packages/sklearn/utils/validation.py:2749: UserWarning: X does not have valid feature names, but LGBMClassifier was fitted with feature names\n",
      "  warnings.warn(\n"
     ]
    },
    {
     "name": "stdout",
     "output_type": "stream",
     "text": [
      "[LightGBM] [Info] Number of positive: 19860, number of negative: 226149\n",
      "[LightGBM] [Info] Auto-choosing col-wise multi-threading, the overhead of testing was 0.099575 seconds.\n",
      "You can set `force_col_wise=true` to remove the overhead.\n",
      "[LightGBM] [Info] Total Bins 14680\n",
      "[LightGBM] [Info] Number of data points in the train set: 246009, number of used features: 246\n",
      "[LightGBM] [Info] [binary:BoostFromScore]: pavg=0.080729 -> initscore=-2.432486\n",
      "[LightGBM] [Info] Start training from score -2.432486\n"
     ]
    },
    {
     "name": "stderr",
     "output_type": "stream",
     "text": [
      "/home/nicolasd/.pyenv/versions/3.10.6/envs/scoring_project7/lib/python3.10/site-packages/sklearn/utils/validation.py:2749: UserWarning: X does not have valid feature names, but LGBMClassifier was fitted with feature names\n",
      "  warnings.warn(\n"
     ]
    },
    {
     "name": "stdout",
     "output_type": "stream",
     "text": [
      "[LightGBM] [Info] Number of positive: 19860, number of negative: 226149\n",
      "[LightGBM] [Info] Auto-choosing col-wise multi-threading, the overhead of testing was 0.199335 seconds.\n",
      "You can set `force_col_wise=true` to remove the overhead.\n",
      "[LightGBM] [Info] Total Bins 14687\n",
      "[LightGBM] [Info] Number of data points in the train set: 246009, number of used features: 247\n",
      "[LightGBM] [Info] [binary:BoostFromScore]: pavg=0.080729 -> initscore=-2.432486\n",
      "[LightGBM] [Info] Start training from score -2.432486\n"
     ]
    },
    {
     "name": "stderr",
     "output_type": "stream",
     "text": [
      "/home/nicolasd/.pyenv/versions/3.10.6/envs/scoring_project7/lib/python3.10/site-packages/sklearn/utils/validation.py:2749: UserWarning: X does not have valid feature names, but LGBMClassifier was fitted with feature names\n",
      "  warnings.warn(\n"
     ]
    },
    {
     "name": "stdout",
     "output_type": "stream",
     "text": [
      "[LightGBM] [Info] Number of positive: 19860, number of negative: 226149\n",
      "[LightGBM] [Info] Auto-choosing col-wise multi-threading, the overhead of testing was 0.090741 seconds.\n",
      "You can set `force_col_wise=true` to remove the overhead.\n",
      "[LightGBM] [Info] Total Bins 14679\n",
      "[LightGBM] [Info] Number of data points in the train set: 246009, number of used features: 247\n",
      "[LightGBM] [Info] [binary:BoostFromScore]: pavg=0.080729 -> initscore=-2.432486\n",
      "[LightGBM] [Info] Start training from score -2.432486\n"
     ]
    },
    {
     "name": "stderr",
     "output_type": "stream",
     "text": [
      "/home/nicolasd/.pyenv/versions/3.10.6/envs/scoring_project7/lib/python3.10/site-packages/sklearn/utils/validation.py:2749: UserWarning: X does not have valid feature names, but LGBMClassifier was fitted with feature names\n",
      "  warnings.warn(\n"
     ]
    },
    {
     "name": "stdout",
     "output_type": "stream",
     "text": [
      "AUC OOF = 0.7634 | Seuil OOF = 0.080 | Coût OOF = 160830\n"
     ]
    }
   ],
   "source": [
    "auc_oof, th_oof, cost_oof, oof_prob = oof_auc_and_cost(best_model, X, y)\n",
    "print(f\"AUC OOF = {auc_oof:.4f} | Seuil OOF = {th_oof:.3f} | Coût OOF = {cost_oof:.0f}\")"
   ]
  },
  {
   "cell_type": "code",
   "execution_count": 21,
   "id": "c6b07151",
   "metadata": {},
   "outputs": [],
   "source": [
    "# Normalisation du coût (pour 10 000 clients)\n",
    "best_cost_norm = (best_cost / len(y_valid)) * 10_000\n",
    "cost_oof_norm = (cost_oof / len(y)) * 10_000"
   ]
  },
  {
   "cell_type": "code",
   "execution_count": 22,
   "id": "3f0be6da",
   "metadata": {},
   "outputs": [
    {
     "name": "stdout",
     "output_type": "stream",
     "text": [
      "Coût de validation train/test split : 5212.428662016488\n",
      "Coût de validation OOF : 5230.056810975867\n"
     ]
    }
   ],
   "source": [
    "print(f'Coût de validation train/test split : {best_cost_norm}')\n",
    "print(f'Coût de validation OOF : {cost_oof_norm}')"
   ]
  },
  {
   "cell_type": "code",
   "execution_count": 23,
   "id": "c2d5e8ab",
   "metadata": {},
   "outputs": [
    {
     "name": "stderr",
     "output_type": "stream",
     "text": [
      "/home/nicolasd/.pyenv/versions/3.10.6/envs/scoring_project7/lib/python3.10/site-packages/sklearn/utils/validation.py:2749: UserWarning: X does not have valid feature names, but LGBMClassifier was fitted with feature names\n",
      "  warnings.warn(\n",
      "/home/nicolasd/.pyenv/versions/3.10.6/envs/scoring_project7/lib/python3.10/site-packages/mlflow/types/utils.py:452: UserWarning: Hint: Inferred schema contains integer column(s). Integer columns in Python cannot represent missing values. If your input data contains missing values at inference time, it will be encoded as floats and will cause a schema enforcement error. The best way to avoid this problem is to infer the model schema based on a realistic data sample (training dataset) that includes missing values. Alternatively, you can declare integer columns as doubles (float64) whenever these columns may have missing values. See `Handling Integers With Missing Values <https://www.mlflow.org/docs/latest/models.html#handling-integers-with-missing-values>`_ for more details.\n",
      "  warnings.warn(\n"
     ]
    },
    {
     "name": "stdout",
     "output_type": "stream",
     "text": [
      "🏃 View run baseline_notebook_remote at: https://dbc-8fbfa9c5-63c4.cloud.databricks.com/ml/experiments/3880182794298532/runs/e8908bca2bc4408f806ac73a184275a3\n",
      "🧪 View experiment at: https://dbc-8fbfa9c5-63c4.cloud.databricks.com/ml/experiments/3880182794298532\n",
      "Run ID: e8908bca2bc4408f806ac73a184275a3\n"
     ]
    }
   ],
   "source": [
    "with mlflow.start_run(run_name=\"baseline_notebook_remote\") as run:\n",
    "    # Params & métriques\n",
    "    mlflow.log_param(\"cost_fn\", float(COST_FN))\n",
    "    mlflow.log_param(\"cost_fp\", float(COST_FP))\n",
    "    mlflow.log_metric(\"auc_valid_or_oof\", float(auc_val))\n",
    "    mlflow.log_metric(\"best_threshold\", float(best_th))\n",
    "    mlflow.log_metric(\"business_cost\", float(best_cost))\n",
    "\n",
    "    # Artifacts\n",
    "    Path(\"models\").mkdir(exist_ok=True)\n",
    "    joblib.dump(best_model, \"models/scoring_model.joblib\")\n",
    "    with open(\"models/decision_threshold.json\", \"w\") as f:\n",
    "        json.dump({\"threshold\": float(best_th),\n",
    "                   \"cost_fn\": float(COST_FN),\n",
    "                   \"cost_fp\": float(COST_FP)}, f)\n",
    "    mlflow.log_artifact(\"models/decision_threshold.json\")\n",
    "\n",
    "    # On ajoute une signature pour éviter le warning\n",
    "    try:\n",
    "        # petit échantillon pour la signature (X_valid existe déjà dans le carnet)\n",
    "        sig = infer_signature(X_valid.iloc[:100], best_model.predict_proba(X_valid.iloc[:100])[:,1])\n",
    "    except Exception:\n",
    "        sig = None\n",
    "\n",
    "    mlflow.sklearn.log_model(best_model, name=\"model\", signature=sig)\n",
    "\n",
    "    run_id = run.info.run_id\n",
    "print(\"Run ID:\", run_id)"
   ]
  },
  {
   "cell_type": "code",
   "execution_count": 24,
   "id": "55f47ad4",
   "metadata": {},
   "outputs": [
    {
     "data": {
      "text/plain": [
       "array(['Working', 'State servant', 'Commercial associate', 'Pensioner',\n",
       "       'Unemployed', 'Student', 'Businessman', 'Maternity leave'],\n",
       "      dtype=object)"
      ]
     },
     "execution_count": 24,
     "metadata": {},
     "output_type": "execute_result"
    }
   ],
   "source": [
    "X['NAME_INCOME_TYPE'].unique()"
   ]
  },
  {
   "cell_type": "markdown",
   "id": "3fa6994e",
   "metadata": {},
   "source": [
    "# Grid & Random Search"
   ]
  },
  {
   "cell_type": "markdown",
   "id": "383a0e6e",
   "metadata": {},
   "source": [
    "## Chargement et split"
   ]
  },
  {
   "cell_type": "code",
   "execution_count": 28,
   "id": "a9009a16",
   "metadata": {},
   "outputs": [],
   "source": [
    "train_path = DATA_RAW / \"application_train.csv\"\n",
    "test_path  = DATA_RAW / \"application_test.csv\"\n",
    "assert train_path.exists() and test_path.exists()\n",
    "\n",
    "df = pd.read_csv(train_path)\n",
    "y  = df[\"TARGET\"].astype(int)\n",
    "X  = df.drop(columns=[\"TARGET\"])\n",
    "\n",
    "num_cols = X.select_dtypes(include=[\"int64\",\"float64\",\"int32\",\"float32\"]).columns.tolist()\n",
    "cat_cols = X.select_dtypes(include=[\"object\",\"category\",\"bool\"]).columns.tolist()\n",
    "\n",
    "numeric_transformer = Pipeline([\n",
    "    (\"imputer\", SimpleImputer(strategy=\"median\")),\n",
    "    (\"scaler\", StandardScaler(with_mean=False)),\n",
    "])\n",
    "categorical_transformer = Pipeline([\n",
    "    (\"imputer\", SimpleImputer(strategy=\"most_frequent\")),\n",
    "    (\"encoder\", OneHotEncoder(handle_unknown=\"ignore\")),\n",
    "])\n",
    "preprocessor = ColumnTransformer([\n",
    "    (\"num\", numeric_transformer, num_cols),\n",
    "    (\"cat\", categorical_transformer, cat_cols),\n",
    "])\n",
    "\n",
    "cv = StratifiedKFold(n_splits=5, shuffle=True, random_state=42)"
   ]
  },
  {
   "cell_type": "markdown",
   "id": "eac2d516",
   "metadata": {},
   "source": [
    "## Scorers (Score métier et AUC)"
   ]
  },
  {
   "cell_type": "code",
   "execution_count": 29,
   "id": "0ebebb94",
   "metadata": {},
   "outputs": [],
   "source": [
    "neg_cost = make_business_scorer(fn_cost=10.0, fp_cost=1.0, grid=301)  # score métier\n",
    "scoring = {\n",
    "    \"neg_cost\": neg_cost,   # plus c'est haut, mieux c'est\n",
    "    \"roc_auc\": \"roc_auc\",\n",
    "}"
   ]
  },
  {
   "cell_type": "markdown",
   "id": "c00504c7",
   "metadata": {},
   "source": [
    "## Hyperparams"
   ]
  },
  {
   "cell_type": "code",
   "execution_count": 30,
   "id": "bd354d63",
   "metadata": {},
   "outputs": [],
   "source": [
    "# LogReg\n",
    "logreg = Pipeline([\n",
    "    (\"prep\", preprocessor),\n",
    "    (\"clf\", LogisticRegression(\n",
    "        solver=\"saga\", penalty=\"l2\", max_iter=2000, class_weight=\"balanced\", n_jobs=-1\n",
    "    )),\n",
    "])\n",
    "grid_logreg = {\n",
    "    \"clf__C\": [0.01, 0.05, 0.1, 0.5, 1.0, 2.0, 5.0],\n",
    "}\n",
    "\n",
    "# RandomForest\n",
    "rf = Pipeline([\n",
    "    (\"prep\", preprocessor),\n",
    "    (\"clf\", RandomForestClassifier(\n",
    "        random_state=42, class_weight=\"balanced_subsample\", n_jobs=-1\n",
    "    )),\n",
    "])\n",
    "grid_rf = {\n",
    "    \"clf__n_estimators\": [200, 400, 800],\n",
    "    \"clf__max_depth\": [None, 8, 12, 20],\n",
    "    \"clf__min_samples_split\": [2, 5, 10],\n",
    "    \"clf__min_samples_leaf\": [1, 2, 4],\n",
    "    \"clf__max_features\": [\"sqrt\", \"log2\", 0.3, 0.5, None],\n",
    "}\n",
    "\n",
    "# LightGBM (interface sklearn; pas d'early_stopping en GridSearch classique)\n",
    "lgbm = Pipeline([\n",
    "    (\"prep\", preprocessor),\n",
    "    (\"clf\", lgb.LGBMClassifier(\n",
    "        random_state=42, n_estimators=600, learning_rate=0.05\n",
    "    )),\n",
    "])\n",
    "dist_lgbm = {\n",
    "    \"clf__num_leaves\": [31, 63, 95, 127],\n",
    "    \"clf__max_depth\": [-1, 8, 12, 16],\n",
    "    \"clf__min_child_samples\": [5, 20, 50, 100],\n",
    "    \"clf__subsample\": [0.7, 0.8, 0.9, 1.0],\n",
    "    \"clf__colsample_bytree\": [0.6, 0.8, 1.0],\n",
    "    \"clf__reg_alpha\": [0.0, 0.1, 0.5],\n",
    "    \"clf__reg_lambda\": [0.0, 0.1, 0.5],\n",
    "}"
   ]
  },
  {
   "cell_type": "markdown",
   "id": "909ad966",
   "metadata": {},
   "source": [
    "## Fonctions"
   ]
  },
  {
   "cell_type": "code",
   "execution_count": 33,
   "id": "fee02257",
   "metadata": {},
   "outputs": [],
   "source": [
    "def df_from_cv(cvres) -> pd.DataFrame:\n",
    "    cols = [c for c in cvres.keys() if c.startswith(\"param_\") or c.startswith(\"mean_\") or c.startswith(\"std_\")]\n",
    "    df = pd.DataFrame(cvres)[cols].sort_values(\"mean_test_neg_cost\", ascending=False)\n",
    "    return df\n",
    "\n",
    "def run_search_with_mlflow(\n",
    "    name: str,\n",
    "    estimator: Pipeline,\n",
    "    space: dict,\n",
    "    search_type: str = \"grid\",   # \"grid\" | \"random\"\n",
    "    n_iter: int = 25,            # utilisé si random\n",
    "    cv=cv,\n",
    "    scoring=scoring,\n",
    "    refit=\"neg_cost\",\n",
    "):\n",
    "    assert search_type in (\"grid\", \"random\")\n",
    "    with mlflow.start_run(run_name=f\"search_{name}\") as run:\n",
    "        mlflow.log_param(\"search_type\", search_type)\n",
    "        mlflow.log_param(\"refit_metric\", refit)\n",
    "        mlflow.log_param(\"cv_n_splits\", cv.get_n_splits())\n",
    "\n",
    "        if search_type == \"grid\":\n",
    "            search = GridSearchCV(\n",
    "                estimator, param_grid=space, scoring=scoring, refit=refit, cv=cv,\n",
    "                n_jobs=-1, verbose=3, return_train_score=False\n",
    "            )\n",
    "        else:\n",
    "            search = RandomizedSearchCV(\n",
    "                estimator, param_distributions=space, n_iter=n_iter, scoring=scoring,\n",
    "                refit=refit, cv=cv, n_jobs=-1, random_state=42, verbose=3,\n",
    "                return_train_score=False\n",
    "            )\n",
    "\n",
    "        search.fit(X, y)\n",
    "        best_est = search.best_estimator_\n",
    "        best_params = search.best_params_\n",
    "        best_scores = search.best_score_  # sur \"neg_cost\" car refit=neg_cost\n",
    "\n",
    "        # CV results → CSV artifact\n",
    "        cv_df = df_from_cv(search.cv_results_)\n",
    "        cv_path = ARTIF_DIR / f\"cv_results_{name}.csv\"\n",
    "        cv_df.to_csv(cv_path, index=False)\n",
    "        mlflow.log_artifact(str(cv_path))\n",
    "\n",
    "        # Log params / metrics\n",
    "        for k,v in best_params.items():\n",
    "            mlflow.log_param(k, v)\n",
    "        mlflow.log_metric(\"cv_best_neg_cost\", float(best_scores))\n",
    "\n",
    "        # Log AUC (recalcule via CV OOF sur le meilleur modèle)\n",
    "        oof_prob = cross_val_predict(best_est, X, y, cv=cv, method=\"predict_proba\", n_jobs=-1)[:,1]\n",
    "        auc_oof = roc_auc_score(y, oof_prob)\n",
    "        mlflow.log_metric(\"cv_auc_oof\", float(auc_oof))\n",
    "\n",
    "        # Sauvegarde du modèle\n",
    "        mlflow.sklearn.log_model(best_est, artifact_path=\"model\")\n",
    "\n",
    "        print(f\"[{name}] best neg_cost={best_scores:.5f} | AUC_OOF={auc_oof:.4f}\")\n",
    "        return best_est, cv_df"
   ]
  },
  {
   "cell_type": "markdown",
   "id": "6663fa1d",
   "metadata": {},
   "source": [
    "## Search"
   ]
  },
  {
   "cell_type": "markdown",
   "id": "e913482e",
   "metadata": {},
   "source": [
    "### Régression logistique"
   ]
  },
  {
   "cell_type": "code",
   "execution_count": null,
   "id": "8a86469e",
   "metadata": {},
   "outputs": [
    {
     "name": "stdout",
     "output_type": "stream",
     "text": [
      "Fitting 5 folds for each of 7 candidates, totalling 35 fits\n"
     ]
    },
    {
     "name": "stderr",
     "output_type": "stream",
     "text": [
      "/home/nicolasd/.pyenv/versions/3.10.6/envs/scoring_project7/lib/python3.10/site-packages/sklearn/model_selection/_validation.py:971: UserWarning: Scoring failed. The score on this train-test partition for these parameters will be set to nan. Details: \n",
      "Traceback (most recent call last):\n",
      "  File \"/home/nicolasd/.pyenv/versions/3.10.6/envs/scoring_project7/lib/python3.10/site-packages/sklearn/metrics/_scorer.py\", line 152, in __call__\n",
      "    score = scorer._score(\n",
      "  File \"/home/nicolasd/.pyenv/versions/3.10.6/envs/scoring_project7/lib/python3.10/site-packages/sklearn/metrics/_scorer.py\", line 408, in _score\n",
      "    return self._sign * self._score_func(y_true, y_pred, **scoring_kwargs)\n",
      "TypeError: business_cost_min_threshold() got an unexpected keyword argument 'needs_proba'\n",
      "\n",
      "  warnings.warn(\n"
     ]
    },
    {
     "name": "stdout",
     "output_type": "stream",
     "text": [
      "[CV 5/5] END clf__C=0.01; neg_cost: (test=nan) roc_auc: (test=0.740) total time=39.8min\n"
     ]
    },
    {
     "name": "stderr",
     "output_type": "stream",
     "text": [
      "/home/nicolasd/.pyenv/versions/3.10.6/envs/scoring_project7/lib/python3.10/site-packages/sklearn/model_selection/_validation.py:971: UserWarning: Scoring failed. The score on this train-test partition for these parameters will be set to nan. Details: \n",
      "Traceback (most recent call last):\n",
      "  File \"/home/nicolasd/.pyenv/versions/3.10.6/envs/scoring_project7/lib/python3.10/site-packages/sklearn/metrics/_scorer.py\", line 152, in __call__\n",
      "    score = scorer._score(\n",
      "  File \"/home/nicolasd/.pyenv/versions/3.10.6/envs/scoring_project7/lib/python3.10/site-packages/sklearn/metrics/_scorer.py\", line 408, in _score\n",
      "    return self._sign * self._score_func(y_true, y_pred, **scoring_kwargs)\n",
      "TypeError: business_cost_min_threshold() got an unexpected keyword argument 'needs_proba'\n",
      "\n",
      "  warnings.warn(\n"
     ]
    },
    {
     "name": "stdout",
     "output_type": "stream",
     "text": [
      "[CV 3/5] END clf__C=0.01; neg_cost: (test=nan) roc_auc: (test=0.746) total time=41.7min\n"
     ]
    },
    {
     "name": "stderr",
     "output_type": "stream",
     "text": [
      "/home/nicolasd/.pyenv/versions/3.10.6/envs/scoring_project7/lib/python3.10/site-packages/sklearn/model_selection/_validation.py:971: UserWarning: Scoring failed. The score on this train-test partition for these parameters will be set to nan. Details: \n",
      "Traceback (most recent call last):\n",
      "  File \"/home/nicolasd/.pyenv/versions/3.10.6/envs/scoring_project7/lib/python3.10/site-packages/sklearn/metrics/_scorer.py\", line 152, in __call__\n",
      "    score = scorer._score(\n",
      "  File \"/home/nicolasd/.pyenv/versions/3.10.6/envs/scoring_project7/lib/python3.10/site-packages/sklearn/metrics/_scorer.py\", line 408, in _score\n",
      "    return self._sign * self._score_func(y_true, y_pred, **scoring_kwargs)\n",
      "TypeError: business_cost_min_threshold() got an unexpected keyword argument 'needs_proba'\n",
      "\n",
      "  warnings.warn(\n"
     ]
    },
    {
     "name": "stdout",
     "output_type": "stream",
     "text": [
      "[CV 2/5] END clf__C=0.01; neg_cost: (test=nan) roc_auc: (test=0.751) total time=42.2min\n"
     ]
    },
    {
     "name": "stderr",
     "output_type": "stream",
     "text": [
      "/home/nicolasd/.pyenv/versions/3.10.6/envs/scoring_project7/lib/python3.10/site-packages/sklearn/model_selection/_validation.py:971: UserWarning: Scoring failed. The score on this train-test partition for these parameters will be set to nan. Details: \n",
      "Traceback (most recent call last):\n",
      "  File \"/home/nicolasd/.pyenv/versions/3.10.6/envs/scoring_project7/lib/python3.10/site-packages/sklearn/metrics/_scorer.py\", line 152, in __call__\n",
      "    score = scorer._score(\n",
      "  File \"/home/nicolasd/.pyenv/versions/3.10.6/envs/scoring_project7/lib/python3.10/site-packages/sklearn/metrics/_scorer.py\", line 408, in _score\n",
      "    return self._sign * self._score_func(y_true, y_pred, **scoring_kwargs)\n",
      "TypeError: business_cost_min_threshold() got an unexpected keyword argument 'needs_proba'\n",
      "\n",
      "  warnings.warn(\n"
     ]
    },
    {
     "name": "stdout",
     "output_type": "stream",
     "text": [
      "[CV 4/5] END clf__C=0.01; neg_cost: (test=nan) roc_auc: (test=0.750) total time=44.4min\n"
     ]
    },
    {
     "name": "stderr",
     "output_type": "stream",
     "text": [
      "/home/nicolasd/.pyenv/versions/3.10.6/envs/scoring_project7/lib/python3.10/site-packages/sklearn/model_selection/_validation.py:971: UserWarning: Scoring failed. The score on this train-test partition for these parameters will be set to nan. Details: \n",
      "Traceback (most recent call last):\n",
      "  File \"/home/nicolasd/.pyenv/versions/3.10.6/envs/scoring_project7/lib/python3.10/site-packages/sklearn/metrics/_scorer.py\", line 152, in __call__\n",
      "    score = scorer._score(\n",
      "  File \"/home/nicolasd/.pyenv/versions/3.10.6/envs/scoring_project7/lib/python3.10/site-packages/sklearn/metrics/_scorer.py\", line 408, in _score\n",
      "    return self._sign * self._score_func(y_true, y_pred, **scoring_kwargs)\n",
      "TypeError: business_cost_min_threshold() got an unexpected keyword argument 'needs_proba'\n",
      "\n",
      "  warnings.warn(\n"
     ]
    },
    {
     "name": "stdout",
     "output_type": "stream",
     "text": [
      "[CV 1/5] END clf__C=0.01; neg_cost: (test=nan) roc_auc: (test=0.740) total time=49.4min\n"
     ]
    },
    {
     "name": "stderr",
     "output_type": "stream",
     "text": [
      "/home/nicolasd/.pyenv/versions/3.10.6/envs/scoring_project7/lib/python3.10/site-packages/sklearn/linear_model/_sag.py:348: ConvergenceWarning: The max_iter was reached which means the coef_ did not converge\n",
      "  warnings.warn(\n",
      "/home/nicolasd/.pyenv/versions/3.10.6/envs/scoring_project7/lib/python3.10/site-packages/sklearn/model_selection/_validation.py:971: UserWarning: Scoring failed. The score on this train-test partition for these parameters will be set to nan. Details: \n",
      "Traceback (most recent call last):\n",
      "  File \"/home/nicolasd/.pyenv/versions/3.10.6/envs/scoring_project7/lib/python3.10/site-packages/sklearn/metrics/_scorer.py\", line 152, in __call__\n",
      "    score = scorer._score(\n",
      "  File \"/home/nicolasd/.pyenv/versions/3.10.6/envs/scoring_project7/lib/python3.10/site-packages/sklearn/metrics/_scorer.py\", line 408, in _score\n",
      "    return self._sign * self._score_func(y_true, y_pred, **scoring_kwargs)\n",
      "TypeError: business_cost_min_threshold() got an unexpected keyword argument 'needs_proba'\n",
      "\n",
      "  warnings.warn(\n"
     ]
    },
    {
     "name": "stdout",
     "output_type": "stream",
     "text": [
      "[CV 5/5] END clf__C=0.05; neg_cost: (test=nan) roc_auc: (test=0.740) total time=57.6min\n"
     ]
    },
    {
     "name": "stderr",
     "output_type": "stream",
     "text": [
      "/home/nicolasd/.pyenv/versions/3.10.6/envs/scoring_project7/lib/python3.10/site-packages/sklearn/linear_model/_sag.py:348: ConvergenceWarning: The max_iter was reached which means the coef_ did not converge\n",
      "  warnings.warn(\n",
      "/home/nicolasd/.pyenv/versions/3.10.6/envs/scoring_project7/lib/python3.10/site-packages/sklearn/linear_model/_sag.py:348: ConvergenceWarning: The max_iter was reached which means the coef_ did not converge\n",
      "  warnings.warn(\n",
      "/home/nicolasd/.pyenv/versions/3.10.6/envs/scoring_project7/lib/python3.10/site-packages/sklearn/model_selection/_validation.py:971: UserWarning: Scoring failed. The score on this train-test partition for these parameters will be set to nan. Details: \n",
      "Traceback (most recent call last):\n",
      "  File \"/home/nicolasd/.pyenv/versions/3.10.6/envs/scoring_project7/lib/python3.10/site-packages/sklearn/metrics/_scorer.py\", line 152, in __call__\n",
      "    score = scorer._score(\n",
      "  File \"/home/nicolasd/.pyenv/versions/3.10.6/envs/scoring_project7/lib/python3.10/site-packages/sklearn/metrics/_scorer.py\", line 408, in _score\n",
      "    return self._sign * self._score_func(y_true, y_pred, **scoring_kwargs)\n",
      "TypeError: business_cost_min_threshold() got an unexpected keyword argument 'needs_proba'\n",
      "\n",
      "  warnings.warn(\n"
     ]
    },
    {
     "name": "stdout",
     "output_type": "stream",
     "text": [
      "[CV 4/5] END clf__C=0.05; neg_cost: (test=nan) roc_auc: (test=0.750) total time=57.7min\n"
     ]
    },
    {
     "name": "stderr",
     "output_type": "stream",
     "text": [
      "/home/nicolasd/.pyenv/versions/3.10.6/envs/scoring_project7/lib/python3.10/site-packages/sklearn/model_selection/_validation.py:971: UserWarning: Scoring failed. The score on this train-test partition for these parameters will be set to nan. Details: \n",
      "Traceback (most recent call last):\n",
      "  File \"/home/nicolasd/.pyenv/versions/3.10.6/envs/scoring_project7/lib/python3.10/site-packages/sklearn/metrics/_scorer.py\", line 152, in __call__\n",
      "    score = scorer._score(\n",
      "  File \"/home/nicolasd/.pyenv/versions/3.10.6/envs/scoring_project7/lib/python3.10/site-packages/sklearn/metrics/_scorer.py\", line 408, in _score\n",
      "    return self._sign * self._score_func(y_true, y_pred, **scoring_kwargs)\n",
      "TypeError: business_cost_min_threshold() got an unexpected keyword argument 'needs_proba'\n",
      "\n",
      "  warnings.warn(\n"
     ]
    },
    {
     "name": "stdout",
     "output_type": "stream",
     "text": [
      "[CV 2/5] END clf__C=0.1; neg_cost: (test=nan) roc_auc: (test=0.751) total time=57.6min\n"
     ]
    },
    {
     "name": "stderr",
     "output_type": "stream",
     "text": [
      "/home/nicolasd/.pyenv/versions/3.10.6/envs/scoring_project7/lib/python3.10/site-packages/sklearn/linear_model/_sag.py:348: ConvergenceWarning: The max_iter was reached which means the coef_ did not converge\n",
      "  warnings.warn(\n",
      "/home/nicolasd/.pyenv/versions/3.10.6/envs/scoring_project7/lib/python3.10/site-packages/sklearn/linear_model/_sag.py:348: ConvergenceWarning: The max_iter was reached which means the coef_ did not converge\n",
      "  warnings.warn(\n",
      "/home/nicolasd/.pyenv/versions/3.10.6/envs/scoring_project7/lib/python3.10/site-packages/sklearn/model_selection/_validation.py:971: UserWarning: Scoring failed. The score on this train-test partition for these parameters will be set to nan. Details: \n",
      "Traceback (most recent call last):\n",
      "  File \"/home/nicolasd/.pyenv/versions/3.10.6/envs/scoring_project7/lib/python3.10/site-packages/sklearn/metrics/_scorer.py\", line 152, in __call__\n",
      "    score = scorer._score(\n",
      "  File \"/home/nicolasd/.pyenv/versions/3.10.6/envs/scoring_project7/lib/python3.10/site-packages/sklearn/metrics/_scorer.py\", line 408, in _score\n",
      "    return self._sign * self._score_func(y_true, y_pred, **scoring_kwargs)\n",
      "TypeError: business_cost_min_threshold() got an unexpected keyword argument 'needs_proba'\n",
      "\n",
      "  warnings.warn(\n"
     ]
    },
    {
     "name": "stdout",
     "output_type": "stream",
     "text": [
      "[CV 1/5] END clf__C=0.05; neg_cost: (test=nan) roc_auc: (test=0.740) total time=58.0min\n",
      "[CV 3/5] END clf__C=0.05; neg_cost: (test=nan) roc_auc: (test=0.746) total time=58.0min\n"
     ]
    },
    {
     "name": "stderr",
     "output_type": "stream",
     "text": [
      "/home/nicolasd/.pyenv/versions/3.10.6/envs/scoring_project7/lib/python3.10/site-packages/sklearn/model_selection/_validation.py:971: UserWarning: Scoring failed. The score on this train-test partition for these parameters will be set to nan. Details: \n",
      "Traceback (most recent call last):\n",
      "  File \"/home/nicolasd/.pyenv/versions/3.10.6/envs/scoring_project7/lib/python3.10/site-packages/sklearn/metrics/_scorer.py\", line 152, in __call__\n",
      "    score = scorer._score(\n",
      "  File \"/home/nicolasd/.pyenv/versions/3.10.6/envs/scoring_project7/lib/python3.10/site-packages/sklearn/metrics/_scorer.py\", line 408, in _score\n",
      "    return self._sign * self._score_func(y_true, y_pred, **scoring_kwargs)\n",
      "TypeError: business_cost_min_threshold() got an unexpected keyword argument 'needs_proba'\n",
      "\n",
      "  warnings.warn(\n",
      "/home/nicolasd/.pyenv/versions/3.10.6/envs/scoring_project7/lib/python3.10/site-packages/sklearn/linear_model/_sag.py:348: ConvergenceWarning: The max_iter was reached which means the coef_ did not converge\n",
      "  warnings.warn(\n"
     ]
    },
    {
     "name": "stdout",
     "output_type": "stream",
     "text": [
      "[CV 2/5] END clf__C=0.05; neg_cost: (test=nan) roc_auc: (test=0.751) total time=58.1min\n"
     ]
    },
    {
     "name": "stderr",
     "output_type": "stream",
     "text": [
      "/home/nicolasd/.pyenv/versions/3.10.6/envs/scoring_project7/lib/python3.10/site-packages/sklearn/model_selection/_validation.py:971: UserWarning: Scoring failed. The score on this train-test partition for these parameters will be set to nan. Details: \n",
      "Traceback (most recent call last):\n",
      "  File \"/home/nicolasd/.pyenv/versions/3.10.6/envs/scoring_project7/lib/python3.10/site-packages/sklearn/metrics/_scorer.py\", line 152, in __call__\n",
      "    score = scorer._score(\n",
      "  File \"/home/nicolasd/.pyenv/versions/3.10.6/envs/scoring_project7/lib/python3.10/site-packages/sklearn/metrics/_scorer.py\", line 408, in _score\n",
      "    return self._sign * self._score_func(y_true, y_pred, **scoring_kwargs)\n",
      "TypeError: business_cost_min_threshold() got an unexpected keyword argument 'needs_proba'\n",
      "\n",
      "  warnings.warn(\n",
      "/home/nicolasd/.pyenv/versions/3.10.6/envs/scoring_project7/lib/python3.10/site-packages/sklearn/linear_model/_sag.py:348: ConvergenceWarning: The max_iter was reached which means the coef_ did not converge\n",
      "  warnings.warn(\n",
      "/home/nicolasd/.pyenv/versions/3.10.6/envs/scoring_project7/lib/python3.10/site-packages/sklearn/model_selection/_validation.py:971: UserWarning: Scoring failed. The score on this train-test partition for these parameters will be set to nan. Details: \n",
      "Traceback (most recent call last):\n",
      "  File \"/home/nicolasd/.pyenv/versions/3.10.6/envs/scoring_project7/lib/python3.10/site-packages/sklearn/metrics/_scorer.py\", line 152, in __call__\n",
      "    score = scorer._score(\n",
      "  File \"/home/nicolasd/.pyenv/versions/3.10.6/envs/scoring_project7/lib/python3.10/site-packages/sklearn/metrics/_scorer.py\", line 408, in _score\n",
      "    return self._sign * self._score_func(y_true, y_pred, **scoring_kwargs)\n",
      "TypeError: business_cost_min_threshold() got an unexpected keyword argument 'needs_proba'\n",
      "\n",
      "  warnings.warn(\n"
     ]
    },
    {
     "name": "stdout",
     "output_type": "stream",
     "text": [
      "[CV 1/5] END clf__C=0.1; neg_cost: (test=nan) roc_auc: (test=0.740) total time=58.2min\n"
     ]
    },
    {
     "name": "stderr",
     "output_type": "stream",
     "text": [
      "/home/nicolasd/.pyenv/versions/3.10.6/envs/scoring_project7/lib/python3.10/site-packages/sklearn/linear_model/_sag.py:348: ConvergenceWarning: The max_iter was reached which means the coef_ did not converge\n",
      "  warnings.warn(\n",
      "/home/nicolasd/.pyenv/versions/3.10.6/envs/scoring_project7/lib/python3.10/site-packages/sklearn/model_selection/_validation.py:971: UserWarning: Scoring failed. The score on this train-test partition for these parameters will be set to nan. Details: \n",
      "Traceback (most recent call last):\n",
      "  File \"/home/nicolasd/.pyenv/versions/3.10.6/envs/scoring_project7/lib/python3.10/site-packages/sklearn/metrics/_scorer.py\", line 152, in __call__\n",
      "    score = scorer._score(\n",
      "  File \"/home/nicolasd/.pyenv/versions/3.10.6/envs/scoring_project7/lib/python3.10/site-packages/sklearn/metrics/_scorer.py\", line 408, in _score\n",
      "    return self._sign * self._score_func(y_true, y_pred, **scoring_kwargs)\n",
      "TypeError: business_cost_min_threshold() got an unexpected keyword argument 'needs_proba'\n",
      "\n",
      "  warnings.warn(\n"
     ]
    },
    {
     "name": "stdout",
     "output_type": "stream",
     "text": [
      "[CV 3/5] END clf__C=0.1; neg_cost: (test=nan) roc_auc: (test=0.746) total time=61.2min\n"
     ]
    },
    {
     "name": "stderr",
     "output_type": "stream",
     "text": [
      "/home/nicolasd/.pyenv/versions/3.10.6/envs/scoring_project7/lib/python3.10/site-packages/sklearn/linear_model/_sag.py:348: ConvergenceWarning: The max_iter was reached which means the coef_ did not converge\n",
      "  warnings.warn(\n",
      "/home/nicolasd/.pyenv/versions/3.10.6/envs/scoring_project7/lib/python3.10/site-packages/sklearn/model_selection/_validation.py:971: UserWarning: Scoring failed. The score on this train-test partition for these parameters will be set to nan. Details: \n",
      "Traceback (most recent call last):\n",
      "  File \"/home/nicolasd/.pyenv/versions/3.10.6/envs/scoring_project7/lib/python3.10/site-packages/sklearn/metrics/_scorer.py\", line 152, in __call__\n",
      "    score = scorer._score(\n",
      "  File \"/home/nicolasd/.pyenv/versions/3.10.6/envs/scoring_project7/lib/python3.10/site-packages/sklearn/metrics/_scorer.py\", line 408, in _score\n",
      "    return self._sign * self._score_func(y_true, y_pred, **scoring_kwargs)\n",
      "TypeError: business_cost_min_threshold() got an unexpected keyword argument 'needs_proba'\n",
      "\n",
      "  warnings.warn(\n"
     ]
    },
    {
     "name": "stdout",
     "output_type": "stream",
     "text": [
      "[CV 4/5] END clf__C=0.1; neg_cost: (test=nan) roc_auc: (test=0.750) total time=61.2min\n"
     ]
    },
    {
     "name": "stderr",
     "output_type": "stream",
     "text": [
      "/home/nicolasd/.pyenv/versions/3.10.6/envs/scoring_project7/lib/python3.10/site-packages/sklearn/linear_model/_sag.py:348: ConvergenceWarning: The max_iter was reached which means the coef_ did not converge\n",
      "  warnings.warn(\n",
      "/home/nicolasd/.pyenv/versions/3.10.6/envs/scoring_project7/lib/python3.10/site-packages/sklearn/model_selection/_validation.py:971: UserWarning: Scoring failed. The score on this train-test partition for these parameters will be set to nan. Details: \n",
      "Traceback (most recent call last):\n",
      "  File \"/home/nicolasd/.pyenv/versions/3.10.6/envs/scoring_project7/lib/python3.10/site-packages/sklearn/metrics/_scorer.py\", line 152, in __call__\n",
      "    score = scorer._score(\n",
      "  File \"/home/nicolasd/.pyenv/versions/3.10.6/envs/scoring_project7/lib/python3.10/site-packages/sklearn/metrics/_scorer.py\", line 408, in _score\n",
      "    return self._sign * self._score_func(y_true, y_pred, **scoring_kwargs)\n",
      "TypeError: business_cost_min_threshold() got an unexpected keyword argument 'needs_proba'\n",
      "\n",
      "  warnings.warn(\n"
     ]
    },
    {
     "name": "stdout",
     "output_type": "stream",
     "text": [
      "[CV 5/5] END clf__C=0.1; neg_cost: (test=nan) roc_auc: (test=0.740) total time=61.3min\n"
     ]
    },
    {
     "name": "stderr",
     "output_type": "stream",
     "text": [
      "/home/nicolasd/.pyenv/versions/3.10.6/envs/scoring_project7/lib/python3.10/site-packages/sklearn/linear_model/_sag.py:348: ConvergenceWarning: The max_iter was reached which means the coef_ did not converge\n",
      "  warnings.warn(\n"
     ]
    },
    {
     "name": "stdout",
     "output_type": "stream",
     "text": [
      "[CV 1/5] END clf__C=0.5; neg_cost: (test=nan) roc_auc: (test=0.740) total time=61.5min\n"
     ]
    },
    {
     "name": "stderr",
     "output_type": "stream",
     "text": [
      "/home/nicolasd/.pyenv/versions/3.10.6/envs/scoring_project7/lib/python3.10/site-packages/sklearn/model_selection/_validation.py:971: UserWarning: Scoring failed. The score on this train-test partition for these parameters will be set to nan. Details: \n",
      "Traceback (most recent call last):\n",
      "  File \"/home/nicolasd/.pyenv/versions/3.10.6/envs/scoring_project7/lib/python3.10/site-packages/sklearn/metrics/_scorer.py\", line 152, in __call__\n",
      "    score = scorer._score(\n",
      "  File \"/home/nicolasd/.pyenv/versions/3.10.6/envs/scoring_project7/lib/python3.10/site-packages/sklearn/metrics/_scorer.py\", line 408, in _score\n",
      "    return self._sign * self._score_func(y_true, y_pred, **scoring_kwargs)\n",
      "TypeError: business_cost_min_threshold() got an unexpected keyword argument 'needs_proba'\n",
      "\n",
      "  warnings.warn(\n",
      "/home/nicolasd/.pyenv/versions/3.10.6/envs/scoring_project7/lib/python3.10/site-packages/sklearn/linear_model/_sag.py:348: ConvergenceWarning: The max_iter was reached which means the coef_ did not converge\n",
      "  warnings.warn(\n",
      "/home/nicolasd/.pyenv/versions/3.10.6/envs/scoring_project7/lib/python3.10/site-packages/sklearn/model_selection/_validation.py:971: UserWarning: Scoring failed. The score on this train-test partition for these parameters will be set to nan. Details: \n",
      "Traceback (most recent call last):\n",
      "  File \"/home/nicolasd/.pyenv/versions/3.10.6/envs/scoring_project7/lib/python3.10/site-packages/sklearn/metrics/_scorer.py\", line 152, in __call__\n",
      "    score = scorer._score(\n",
      "  File \"/home/nicolasd/.pyenv/versions/3.10.6/envs/scoring_project7/lib/python3.10/site-packages/sklearn/metrics/_scorer.py\", line 408, in _score\n",
      "    return self._sign * self._score_func(y_true, y_pred, **scoring_kwargs)\n",
      "TypeError: business_cost_min_threshold() got an unexpected keyword argument 'needs_proba'\n",
      "\n",
      "  warnings.warn(\n"
     ]
    },
    {
     "name": "stdout",
     "output_type": "stream",
     "text": [
      "[CV 2/5] END clf__C=0.5; neg_cost: (test=nan) roc_auc: (test=0.751) total time=62.7min\n"
     ]
    },
    {
     "name": "stderr",
     "output_type": "stream",
     "text": [
      "/home/nicolasd/.pyenv/versions/3.10.6/envs/scoring_project7/lib/python3.10/site-packages/sklearn/linear_model/_sag.py:348: ConvergenceWarning: The max_iter was reached which means the coef_ did not converge\n",
      "  warnings.warn(\n"
     ]
    },
    {
     "name": "stdout",
     "output_type": "stream",
     "text": [
      "[CV 5/5] END clf__C=0.5; neg_cost: (test=nan) roc_auc: (test=0.740) total time=62.2min\n"
     ]
    },
    {
     "name": "stderr",
     "output_type": "stream",
     "text": [
      "/home/nicolasd/.pyenv/versions/3.10.6/envs/scoring_project7/lib/python3.10/site-packages/sklearn/model_selection/_validation.py:971: UserWarning: Scoring failed. The score on this train-test partition for these parameters will be set to nan. Details: \n",
      "Traceback (most recent call last):\n",
      "  File \"/home/nicolasd/.pyenv/versions/3.10.6/envs/scoring_project7/lib/python3.10/site-packages/sklearn/metrics/_scorer.py\", line 152, in __call__\n",
      "    score = scorer._score(\n",
      "  File \"/home/nicolasd/.pyenv/versions/3.10.6/envs/scoring_project7/lib/python3.10/site-packages/sklearn/metrics/_scorer.py\", line 408, in _score\n",
      "    return self._sign * self._score_func(y_true, y_pred, **scoring_kwargs)\n",
      "TypeError: business_cost_min_threshold() got an unexpected keyword argument 'needs_proba'\n",
      "\n",
      "  warnings.warn(\n",
      "/home/nicolasd/.pyenv/versions/3.10.6/envs/scoring_project7/lib/python3.10/site-packages/sklearn/linear_model/_sag.py:348: ConvergenceWarning: The max_iter was reached which means the coef_ did not converge\n",
      "  warnings.warn(\n",
      "/home/nicolasd/.pyenv/versions/3.10.6/envs/scoring_project7/lib/python3.10/site-packages/sklearn/model_selection/_validation.py:971: UserWarning: Scoring failed. The score on this train-test partition for these parameters will be set to nan. Details: \n",
      "Traceback (most recent call last):\n",
      "  File \"/home/nicolasd/.pyenv/versions/3.10.6/envs/scoring_project7/lib/python3.10/site-packages/sklearn/metrics/_scorer.py\", line 152, in __call__\n",
      "    score = scorer._score(\n",
      "  File \"/home/nicolasd/.pyenv/versions/3.10.6/envs/scoring_project7/lib/python3.10/site-packages/sklearn/metrics/_scorer.py\", line 408, in _score\n",
      "    return self._sign * self._score_func(y_true, y_pred, **scoring_kwargs)\n",
      "TypeError: business_cost_min_threshold() got an unexpected keyword argument 'needs_proba'\n",
      "\n",
      "  warnings.warn(\n"
     ]
    },
    {
     "name": "stdout",
     "output_type": "stream",
     "text": [
      "[CV 3/5] END clf__C=0.5; neg_cost: (test=nan) roc_auc: (test=0.746) total time=62.4min\n"
     ]
    },
    {
     "name": "stderr",
     "output_type": "stream",
     "text": [
      "/home/nicolasd/.pyenv/versions/3.10.6/envs/scoring_project7/lib/python3.10/site-packages/sklearn/linear_model/_sag.py:348: ConvergenceWarning: The max_iter was reached which means the coef_ did not converge\n",
      "  warnings.warn(\n",
      "/home/nicolasd/.pyenv/versions/3.10.6/envs/scoring_project7/lib/python3.10/site-packages/sklearn/model_selection/_validation.py:971: UserWarning: Scoring failed. The score on this train-test partition for these parameters will be set to nan. Details: \n",
      "Traceback (most recent call last):\n",
      "  File \"/home/nicolasd/.pyenv/versions/3.10.6/envs/scoring_project7/lib/python3.10/site-packages/sklearn/metrics/_scorer.py\", line 152, in __call__\n",
      "    score = scorer._score(\n",
      "  File \"/home/nicolasd/.pyenv/versions/3.10.6/envs/scoring_project7/lib/python3.10/site-packages/sklearn/metrics/_scorer.py\", line 408, in _score\n",
      "    return self._sign * self._score_func(y_true, y_pred, **scoring_kwargs)\n",
      "TypeError: business_cost_min_threshold() got an unexpected keyword argument 'needs_proba'\n",
      "\n",
      "  warnings.warn(\n"
     ]
    },
    {
     "name": "stdout",
     "output_type": "stream",
     "text": [
      "[CV 4/5] END clf__C=0.5; neg_cost: (test=nan) roc_auc: (test=0.750) total time=62.5min\n"
     ]
    },
    {
     "name": "stderr",
     "output_type": "stream",
     "text": [
      "/home/nicolasd/.pyenv/versions/3.10.6/envs/scoring_project7/lib/python3.10/site-packages/sklearn/linear_model/_sag.py:348: ConvergenceWarning: The max_iter was reached which means the coef_ did not converge\n",
      "  warnings.warn(\n",
      "/home/nicolasd/.pyenv/versions/3.10.6/envs/scoring_project7/lib/python3.10/site-packages/sklearn/model_selection/_validation.py:971: UserWarning: Scoring failed. The score on this train-test partition for these parameters will be set to nan. Details: \n",
      "Traceback (most recent call last):\n",
      "  File \"/home/nicolasd/.pyenv/versions/3.10.6/envs/scoring_project7/lib/python3.10/site-packages/sklearn/metrics/_scorer.py\", line 152, in __call__\n",
      "    score = scorer._score(\n",
      "  File \"/home/nicolasd/.pyenv/versions/3.10.6/envs/scoring_project7/lib/python3.10/site-packages/sklearn/metrics/_scorer.py\", line 408, in _score\n",
      "    return self._sign * self._score_func(y_true, y_pred, **scoring_kwargs)\n",
      "TypeError: business_cost_min_threshold() got an unexpected keyword argument 'needs_proba'\n",
      "\n",
      "  warnings.warn(\n"
     ]
    },
    {
     "name": "stdout",
     "output_type": "stream",
     "text": [
      "[CV 3/5] END clf__C=1.0; neg_cost: (test=nan) roc_auc: (test=0.746) total time=62.6min\n"
     ]
    },
    {
     "name": "stderr",
     "output_type": "stream",
     "text": [
      "/home/nicolasd/.pyenv/versions/3.10.6/envs/scoring_project7/lib/python3.10/site-packages/sklearn/linear_model/_sag.py:348: ConvergenceWarning: The max_iter was reached which means the coef_ did not converge\n",
      "  warnings.warn(\n",
      "/home/nicolasd/.pyenv/versions/3.10.6/envs/scoring_project7/lib/python3.10/site-packages/sklearn/model_selection/_validation.py:971: UserWarning: Scoring failed. The score on this train-test partition for these parameters will be set to nan. Details: \n",
      "Traceback (most recent call last):\n",
      "  File \"/home/nicolasd/.pyenv/versions/3.10.6/envs/scoring_project7/lib/python3.10/site-packages/sklearn/metrics/_scorer.py\", line 152, in __call__\n",
      "    score = scorer._score(\n",
      "  File \"/home/nicolasd/.pyenv/versions/3.10.6/envs/scoring_project7/lib/python3.10/site-packages/sklearn/metrics/_scorer.py\", line 408, in _score\n",
      "    return self._sign * self._score_func(y_true, y_pred, **scoring_kwargs)\n",
      "TypeError: business_cost_min_threshold() got an unexpected keyword argument 'needs_proba'\n",
      "\n",
      "  warnings.warn(\n"
     ]
    },
    {
     "name": "stdout",
     "output_type": "stream",
     "text": [
      "[CV 1/5] END clf__C=1.0; neg_cost: (test=nan) roc_auc: (test=0.740) total time=62.8min\n"
     ]
    },
    {
     "name": "stderr",
     "output_type": "stream",
     "text": [
      "/home/nicolasd/.pyenv/versions/3.10.6/envs/scoring_project7/lib/python3.10/site-packages/sklearn/linear_model/_sag.py:348: ConvergenceWarning: The max_iter was reached which means the coef_ did not converge\n",
      "  warnings.warn(\n"
     ]
    },
    {
     "name": "stdout",
     "output_type": "stream",
     "text": [
      "[CV 4/5] END clf__C=1.0; neg_cost: (test=nan) roc_auc: (test=0.750) total time=62.7min\n"
     ]
    },
    {
     "name": "stderr",
     "output_type": "stream",
     "text": [
      "/home/nicolasd/.pyenv/versions/3.10.6/envs/scoring_project7/lib/python3.10/site-packages/sklearn/model_selection/_validation.py:971: UserWarning: Scoring failed. The score on this train-test partition for these parameters will be set to nan. Details: \n",
      "Traceback (most recent call last):\n",
      "  File \"/home/nicolasd/.pyenv/versions/3.10.6/envs/scoring_project7/lib/python3.10/site-packages/sklearn/metrics/_scorer.py\", line 152, in __call__\n",
      "    score = scorer._score(\n",
      "  File \"/home/nicolasd/.pyenv/versions/3.10.6/envs/scoring_project7/lib/python3.10/site-packages/sklearn/metrics/_scorer.py\", line 408, in _score\n",
      "    return self._sign * self._score_func(y_true, y_pred, **scoring_kwargs)\n",
      "TypeError: business_cost_min_threshold() got an unexpected keyword argument 'needs_proba'\n",
      "\n",
      "  warnings.warn(\n",
      "/home/nicolasd/.pyenv/versions/3.10.6/envs/scoring_project7/lib/python3.10/site-packages/sklearn/linear_model/_sag.py:348: ConvergenceWarning: The max_iter was reached which means the coef_ did not converge\n",
      "  warnings.warn(\n"
     ]
    },
    {
     "name": "stdout",
     "output_type": "stream",
     "text": [
      "[CV 2/5] END clf__C=1.0; neg_cost: (test=nan) roc_auc: (test=0.751) total time=63.1min\n"
     ]
    },
    {
     "name": "stderr",
     "output_type": "stream",
     "text": [
      "/home/nicolasd/.pyenv/versions/3.10.6/envs/scoring_project7/lib/python3.10/site-packages/sklearn/model_selection/_validation.py:971: UserWarning: Scoring failed. The score on this train-test partition for these parameters will be set to nan. Details: \n",
      "Traceback (most recent call last):\n",
      "  File \"/home/nicolasd/.pyenv/versions/3.10.6/envs/scoring_project7/lib/python3.10/site-packages/sklearn/metrics/_scorer.py\", line 152, in __call__\n",
      "    score = scorer._score(\n",
      "  File \"/home/nicolasd/.pyenv/versions/3.10.6/envs/scoring_project7/lib/python3.10/site-packages/sklearn/metrics/_scorer.py\", line 408, in _score\n",
      "    return self._sign * self._score_func(y_true, y_pred, **scoring_kwargs)\n",
      "TypeError: business_cost_min_threshold() got an unexpected keyword argument 'needs_proba'\n",
      "\n",
      "  warnings.warn(\n",
      "/home/nicolasd/.pyenv/versions/3.10.6/envs/scoring_project7/lib/python3.10/site-packages/sklearn/linear_model/_sag.py:348: ConvergenceWarning: The max_iter was reached which means the coef_ did not converge\n",
      "  warnings.warn(\n"
     ]
    },
    {
     "name": "stdout",
     "output_type": "stream",
     "text": [
      "[CV 5/5] END clf__C=1.0; neg_cost: (test=nan) roc_auc: (test=0.740) total time=53.9min\n"
     ]
    },
    {
     "name": "stderr",
     "output_type": "stream",
     "text": [
      "/home/nicolasd/.pyenv/versions/3.10.6/envs/scoring_project7/lib/python3.10/site-packages/sklearn/model_selection/_validation.py:971: UserWarning: Scoring failed. The score on this train-test partition for these parameters will be set to nan. Details: \n",
      "Traceback (most recent call last):\n",
      "  File \"/home/nicolasd/.pyenv/versions/3.10.6/envs/scoring_project7/lib/python3.10/site-packages/sklearn/metrics/_scorer.py\", line 152, in __call__\n",
      "    score = scorer._score(\n",
      "  File \"/home/nicolasd/.pyenv/versions/3.10.6/envs/scoring_project7/lib/python3.10/site-packages/sklearn/metrics/_scorer.py\", line 408, in _score\n",
      "    return self._sign * self._score_func(y_true, y_pred, **scoring_kwargs)\n",
      "TypeError: business_cost_min_threshold() got an unexpected keyword argument 'needs_proba'\n",
      "\n",
      "  warnings.warn(\n",
      "/home/nicolasd/.pyenv/versions/3.10.6/envs/scoring_project7/lib/python3.10/site-packages/sklearn/linear_model/_sag.py:348: ConvergenceWarning: The max_iter was reached which means the coef_ did not converge\n",
      "  warnings.warn(\n",
      "/home/nicolasd/.pyenv/versions/3.10.6/envs/scoring_project7/lib/python3.10/site-packages/sklearn/model_selection/_validation.py:971: UserWarning: Scoring failed. The score on this train-test partition for these parameters will be set to nan. Details: \n",
      "Traceback (most recent call last):\n",
      "  File \"/home/nicolasd/.pyenv/versions/3.10.6/envs/scoring_project7/lib/python3.10/site-packages/sklearn/metrics/_scorer.py\", line 152, in __call__\n",
      "    score = scorer._score(\n",
      "  File \"/home/nicolasd/.pyenv/versions/3.10.6/envs/scoring_project7/lib/python3.10/site-packages/sklearn/metrics/_scorer.py\", line 408, in _score\n",
      "    return self._sign * self._score_func(y_true, y_pred, **scoring_kwargs)\n",
      "TypeError: business_cost_min_threshold() got an unexpected keyword argument 'needs_proba'\n",
      "\n",
      "  warnings.warn(\n"
     ]
    },
    {
     "name": "stdout",
     "output_type": "stream",
     "text": [
      "[CV 1/5] END clf__C=2.0; neg_cost: (test=nan) roc_auc: (test=0.740) total time=54.3min\n"
     ]
    },
    {
     "name": "stderr",
     "output_type": "stream",
     "text": [
      "/home/nicolasd/.pyenv/versions/3.10.6/envs/scoring_project7/lib/python3.10/site-packages/sklearn/linear_model/_sag.py:348: ConvergenceWarning: The max_iter was reached which means the coef_ did not converge\n",
      "  warnings.warn(\n",
      "/home/nicolasd/.pyenv/versions/3.10.6/envs/scoring_project7/lib/python3.10/site-packages/sklearn/model_selection/_validation.py:971: UserWarning: Scoring failed. The score on this train-test partition for these parameters will be set to nan. Details: \n",
      "Traceback (most recent call last):\n",
      "  File \"/home/nicolasd/.pyenv/versions/3.10.6/envs/scoring_project7/lib/python3.10/site-packages/sklearn/metrics/_scorer.py\", line 152, in __call__\n",
      "    score = scorer._score(\n",
      "  File \"/home/nicolasd/.pyenv/versions/3.10.6/envs/scoring_project7/lib/python3.10/site-packages/sklearn/metrics/_scorer.py\", line 408, in _score\n",
      "    return self._sign * self._score_func(y_true, y_pred, **scoring_kwargs)\n",
      "TypeError: business_cost_min_threshold() got an unexpected keyword argument 'needs_proba'\n",
      "\n",
      "  warnings.warn(\n"
     ]
    },
    {
     "name": "stdout",
     "output_type": "stream",
     "text": [
      "[CV 2/5] END clf__C=2.0; neg_cost: (test=nan) roc_auc: (test=0.751) total time=54.7min\n"
     ]
    },
    {
     "name": "stderr",
     "output_type": "stream",
     "text": [
      "/home/nicolasd/.pyenv/versions/3.10.6/envs/scoring_project7/lib/python3.10/site-packages/sklearn/linear_model/_sag.py:348: ConvergenceWarning: The max_iter was reached which means the coef_ did not converge\n",
      "  warnings.warn(\n",
      "/home/nicolasd/.pyenv/versions/3.10.6/envs/scoring_project7/lib/python3.10/site-packages/sklearn/model_selection/_validation.py:971: UserWarning: Scoring failed. The score on this train-test partition for these parameters will be set to nan. Details: \n",
      "Traceback (most recent call last):\n",
      "  File \"/home/nicolasd/.pyenv/versions/3.10.6/envs/scoring_project7/lib/python3.10/site-packages/sklearn/metrics/_scorer.py\", line 152, in __call__\n",
      "    score = scorer._score(\n",
      "  File \"/home/nicolasd/.pyenv/versions/3.10.6/envs/scoring_project7/lib/python3.10/site-packages/sklearn/metrics/_scorer.py\", line 408, in _score\n",
      "    return self._sign * self._score_func(y_true, y_pred, **scoring_kwargs)\n",
      "TypeError: business_cost_min_threshold() got an unexpected keyword argument 'needs_proba'\n",
      "\n",
      "  warnings.warn(\n"
     ]
    },
    {
     "name": "stdout",
     "output_type": "stream",
     "text": [
      "[CV 3/5] END clf__C=2.0; neg_cost: (test=nan) roc_auc: (test=0.746) total time=52.5min\n"
     ]
    },
    {
     "name": "stderr",
     "output_type": "stream",
     "text": [
      "/home/nicolasd/.pyenv/versions/3.10.6/envs/scoring_project7/lib/python3.10/site-packages/sklearn/linear_model/_sag.py:348: ConvergenceWarning: The max_iter was reached which means the coef_ did not converge\n",
      "  warnings.warn(\n",
      "/home/nicolasd/.pyenv/versions/3.10.6/envs/scoring_project7/lib/python3.10/site-packages/sklearn/model_selection/_validation.py:971: UserWarning: Scoring failed. The score on this train-test partition for these parameters will be set to nan. Details: \n",
      "Traceback (most recent call last):\n",
      "  File \"/home/nicolasd/.pyenv/versions/3.10.6/envs/scoring_project7/lib/python3.10/site-packages/sklearn/metrics/_scorer.py\", line 152, in __call__\n",
      "    score = scorer._score(\n",
      "  File \"/home/nicolasd/.pyenv/versions/3.10.6/envs/scoring_project7/lib/python3.10/site-packages/sklearn/metrics/_scorer.py\", line 408, in _score\n",
      "    return self._sign * self._score_func(y_true, y_pred, **scoring_kwargs)\n",
      "TypeError: business_cost_min_threshold() got an unexpected keyword argument 'needs_proba'\n",
      "\n",
      "  warnings.warn(\n"
     ]
    },
    {
     "name": "stdout",
     "output_type": "stream",
     "text": [
      "[CV 4/5] END clf__C=2.0; neg_cost: (test=nan) roc_auc: (test=0.750) total time=49.5min\n"
     ]
    },
    {
     "name": "stderr",
     "output_type": "stream",
     "text": [
      "/home/nicolasd/.pyenv/versions/3.10.6/envs/scoring_project7/lib/python3.10/site-packages/sklearn/linear_model/_sag.py:348: ConvergenceWarning: The max_iter was reached which means the coef_ did not converge\n",
      "  warnings.warn(\n"
     ]
    },
    {
     "name": "stdout",
     "output_type": "stream",
     "text": [
      "[CV 1/5] END clf__C=5.0; neg_cost: (test=nan) roc_auc: (test=0.740) total time=45.5min\n"
     ]
    },
    {
     "name": "stderr",
     "output_type": "stream",
     "text": [
      "/home/nicolasd/.pyenv/versions/3.10.6/envs/scoring_project7/lib/python3.10/site-packages/sklearn/model_selection/_validation.py:971: UserWarning: Scoring failed. The score on this train-test partition for these parameters will be set to nan. Details: \n",
      "Traceback (most recent call last):\n",
      "  File \"/home/nicolasd/.pyenv/versions/3.10.6/envs/scoring_project7/lib/python3.10/site-packages/sklearn/metrics/_scorer.py\", line 152, in __call__\n",
      "    score = scorer._score(\n",
      "  File \"/home/nicolasd/.pyenv/versions/3.10.6/envs/scoring_project7/lib/python3.10/site-packages/sklearn/metrics/_scorer.py\", line 408, in _score\n",
      "    return self._sign * self._score_func(y_true, y_pred, **scoring_kwargs)\n",
      "TypeError: business_cost_min_threshold() got an unexpected keyword argument 'needs_proba'\n",
      "\n",
      "  warnings.warn(\n",
      "/home/nicolasd/.pyenv/versions/3.10.6/envs/scoring_project7/lib/python3.10/site-packages/sklearn/linear_model/_sag.py:348: ConvergenceWarning: The max_iter was reached which means the coef_ did not converge\n",
      "  warnings.warn(\n",
      "/home/nicolasd/.pyenv/versions/3.10.6/envs/scoring_project7/lib/python3.10/site-packages/sklearn/model_selection/_validation.py:971: UserWarning: Scoring failed. The score on this train-test partition for these parameters will be set to nan. Details: \n",
      "Traceback (most recent call last):\n",
      "  File \"/home/nicolasd/.pyenv/versions/3.10.6/envs/scoring_project7/lib/python3.10/site-packages/sklearn/metrics/_scorer.py\", line 152, in __call__\n",
      "    score = scorer._score(\n",
      "  File \"/home/nicolasd/.pyenv/versions/3.10.6/envs/scoring_project7/lib/python3.10/site-packages/sklearn/metrics/_scorer.py\", line 408, in _score\n",
      "    return self._sign * self._score_func(y_true, y_pred, **scoring_kwargs)\n",
      "TypeError: business_cost_min_threshold() got an unexpected keyword argument 'needs_proba'\n",
      "\n",
      "  warnings.warn(\n"
     ]
    },
    {
     "name": "stdout",
     "output_type": "stream",
     "text": [
      "[CV 3/5] END clf__C=5.0; neg_cost: (test=nan) roc_auc: (test=0.746) total time=44.9min\n"
     ]
    },
    {
     "name": "stderr",
     "output_type": "stream",
     "text": [
      "/home/nicolasd/.pyenv/versions/3.10.6/envs/scoring_project7/lib/python3.10/site-packages/sklearn/linear_model/_sag.py:348: ConvergenceWarning: The max_iter was reached which means the coef_ did not converge\n",
      "  warnings.warn(\n",
      "/home/nicolasd/.pyenv/versions/3.10.6/envs/scoring_project7/lib/python3.10/site-packages/sklearn/model_selection/_validation.py:971: UserWarning: Scoring failed. The score on this train-test partition for these parameters will be set to nan. Details: \n",
      "Traceback (most recent call last):\n",
      "  File \"/home/nicolasd/.pyenv/versions/3.10.6/envs/scoring_project7/lib/python3.10/site-packages/sklearn/metrics/_scorer.py\", line 152, in __call__\n",
      "    score = scorer._score(\n",
      "  File \"/home/nicolasd/.pyenv/versions/3.10.6/envs/scoring_project7/lib/python3.10/site-packages/sklearn/metrics/_scorer.py\", line 408, in _score\n",
      "    return self._sign * self._score_func(y_true, y_pred, **scoring_kwargs)\n",
      "TypeError: business_cost_min_threshold() got an unexpected keyword argument 'needs_proba'\n",
      "\n",
      "  warnings.warn(\n"
     ]
    },
    {
     "name": "stdout",
     "output_type": "stream",
     "text": [
      "[CV 5/5] END clf__C=2.0; neg_cost: (test=nan) roc_auc: (test=0.740) total time=46.4min\n"
     ]
    },
    {
     "name": "stderr",
     "output_type": "stream",
     "text": [
      "/home/nicolasd/.pyenv/versions/3.10.6/envs/scoring_project7/lib/python3.10/site-packages/sklearn/linear_model/_sag.py:348: ConvergenceWarning: The max_iter was reached which means the coef_ did not converge\n",
      "  warnings.warn(\n",
      "/home/nicolasd/.pyenv/versions/3.10.6/envs/scoring_project7/lib/python3.10/site-packages/sklearn/model_selection/_validation.py:971: UserWarning: Scoring failed. The score on this train-test partition for these parameters will be set to nan. Details: \n",
      "Traceback (most recent call last):\n",
      "  File \"/home/nicolasd/.pyenv/versions/3.10.6/envs/scoring_project7/lib/python3.10/site-packages/sklearn/metrics/_scorer.py\", line 152, in __call__\n",
      "    score = scorer._score(\n",
      "  File \"/home/nicolasd/.pyenv/versions/3.10.6/envs/scoring_project7/lib/python3.10/site-packages/sklearn/metrics/_scorer.py\", line 408, in _score\n",
      "    return self._sign * self._score_func(y_true, y_pred, **scoring_kwargs)\n",
      "TypeError: business_cost_min_threshold() got an unexpected keyword argument 'needs_proba'\n",
      "\n",
      "  warnings.warn(\n"
     ]
    },
    {
     "name": "stdout",
     "output_type": "stream",
     "text": [
      "[CV 2/5] END clf__C=5.0; neg_cost: (test=nan) roc_auc: (test=0.751) total time=46.2min\n"
     ]
    },
    {
     "name": "stderr",
     "output_type": "stream",
     "text": [
      "/home/nicolasd/.pyenv/versions/3.10.6/envs/scoring_project7/lib/python3.10/site-packages/sklearn/linear_model/_sag.py:348: ConvergenceWarning: The max_iter was reached which means the coef_ did not converge\n",
      "  warnings.warn(\n"
     ]
    },
    {
     "name": "stdout",
     "output_type": "stream",
     "text": [
      "[CV 5/5] END clf__C=5.0; neg_cost: (test=nan) roc_auc: (test=0.740) total time=45.7min\n"
     ]
    },
    {
     "name": "stderr",
     "output_type": "stream",
     "text": [
      "/home/nicolasd/.pyenv/versions/3.10.6/envs/scoring_project7/lib/python3.10/site-packages/sklearn/model_selection/_validation.py:971: UserWarning: Scoring failed. The score on this train-test partition for these parameters will be set to nan. Details: \n",
      "Traceback (most recent call last):\n",
      "  File \"/home/nicolasd/.pyenv/versions/3.10.6/envs/scoring_project7/lib/python3.10/site-packages/sklearn/metrics/_scorer.py\", line 152, in __call__\n",
      "    score = scorer._score(\n",
      "  File \"/home/nicolasd/.pyenv/versions/3.10.6/envs/scoring_project7/lib/python3.10/site-packages/sklearn/metrics/_scorer.py\", line 408, in _score\n",
      "    return self._sign * self._score_func(y_true, y_pred, **scoring_kwargs)\n",
      "TypeError: business_cost_min_threshold() got an unexpected keyword argument 'needs_proba'\n",
      "\n",
      "  warnings.warn(\n",
      "/home/nicolasd/.pyenv/versions/3.10.6/envs/scoring_project7/lib/python3.10/site-packages/sklearn/linear_model/_sag.py:348: ConvergenceWarning: The max_iter was reached which means the coef_ did not converge\n",
      "  warnings.warn(\n",
      "/home/nicolasd/.pyenv/versions/3.10.6/envs/scoring_project7/lib/python3.10/site-packages/sklearn/model_selection/_validation.py:971: UserWarning: Scoring failed. The score on this train-test partition for these parameters will be set to nan. Details: \n",
      "Traceback (most recent call last):\n",
      "  File \"/home/nicolasd/.pyenv/versions/3.10.6/envs/scoring_project7/lib/python3.10/site-packages/sklearn/metrics/_scorer.py\", line 152, in __call__\n",
      "    score = scorer._score(\n",
      "  File \"/home/nicolasd/.pyenv/versions/3.10.6/envs/scoring_project7/lib/python3.10/site-packages/sklearn/metrics/_scorer.py\", line 408, in _score\n",
      "    return self._sign * self._score_func(y_true, y_pred, **scoring_kwargs)\n",
      "TypeError: business_cost_min_threshold() got an unexpected keyword argument 'needs_proba'\n",
      "\n",
      "  warnings.warn(\n",
      "/home/nicolasd/.pyenv/versions/3.10.6/envs/scoring_project7/lib/python3.10/site-packages/sklearn/model_selection/_search.py:1135: UserWarning: One or more of the test scores are non-finite: [nan nan nan nan nan nan nan]\n",
      "  warnings.warn(\n"
     ]
    },
    {
     "name": "stdout",
     "output_type": "stream",
     "text": [
      "[CV 4/5] END clf__C=5.0; neg_cost: (test=nan) roc_auc: (test=0.750) total time=46.0min\n"
     ]
    }
   ],
   "source": [
    "best_logreg, logreg_cv = run_search_with_mlflow(\"logreg_grid\", logreg, grid_logreg, search_type=\"grid\")"
   ]
  },
  {
   "cell_type": "markdown",
   "id": "95f9afc7",
   "metadata": {},
   "source": [
    "### Random Forest"
   ]
  },
  {
   "cell_type": "code",
   "execution_count": null,
   "id": "90ead60c",
   "metadata": {},
   "outputs": [],
   "source": [
    "best_rf, rf_cv = run_search_with_mlflow(\"rf_grid\", rf, grid_rf, search_type=\"grid\")"
   ]
  },
  {
   "cell_type": "markdown",
   "id": "c6326e76",
   "metadata": {},
   "source": [
    "### LGBM"
   ]
  },
  {
   "cell_type": "code",
   "execution_count": null,
   "id": "4d356a17",
   "metadata": {},
   "outputs": [],
   "source": [
    "best_lgbm, lgbm_cv = run_search_with_mlflow(\"lgbm_random\", lgbm, dist_lgbm, search_type=\"random\", n_iter=40)"
   ]
  }
 ],
 "metadata": {
  "kernelspec": {
   "display_name": "scoring_project7",
   "language": "python",
   "name": "python3"
  },
  "language_info": {
   "codemirror_mode": {
    "name": "ipython",
    "version": 3
   },
   "file_extension": ".py",
   "mimetype": "text/x-python",
   "name": "python",
   "nbconvert_exporter": "python",
   "pygments_lexer": "ipython3",
   "version": "3.10.6"
  }
 },
 "nbformat": 4,
 "nbformat_minor": 5
}
